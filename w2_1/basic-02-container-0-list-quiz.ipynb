{
 "cells": [
  {
   "cell_type": "markdown",
   "metadata": {},
   "source": [
    "# 1. 본인의 취미 여러가지를 리스트형 자료(hobby)로 만드시오.\n",
    "# 1-1. hobby의 0번째 자료가 '데이터과학', 마지막 자료가 '파이썬'이 되게 하시오\n",
    "# 1-2. '데이터과학'을 pop을 통해서 삭제하시오\n",
    "# 1-3. '파이썬'을 remove를 통해서 삭제하시오, pop과 remove의 차이점은?\n",
    "# 1-4. 기존리스트에 '쌀국수', '메밀소바' 리스트를 추가하시오\n",
    "# 1-5. hobby의 길이와 0번째 자료의 길이를 구하라, 차이점은?\n",
    "# 1-6. '수영'의 위치를 찾고 인덱스를 이용해서 출력하라"
   ]
  },
  {
   "cell_type": "code",
   "execution_count": 2,
   "metadata": {},
   "outputs": [],
   "source": [
    "# 1. 본인의 취미 여러가지를 리스트형 자료로 만드시오.\n",
    "hobby = [\"배드민턴\",\"테니스\",\"수영\"]"
   ]
  },
  {
   "cell_type": "code",
   "execution_count": 3,
   "metadata": {},
   "outputs": [
    {
     "data": {
      "text/plain": [
       "['데이터과학', '배드민턴', '테니스', '수영', '파이썬']"
      ]
     },
     "execution_count": 3,
     "metadata": {},
     "output_type": "execute_result"
    }
   ],
   "source": [
    "# 1-1. 0번째 자료가 '데이터과학', 마지막 자료가 '파이썬'이 되게 하시오\n",
    "hobby.insert(0, '데이터과학')\n",
    "hobby.append('파이썬')\n",
    "hobby"
   ]
  },
  {
   "cell_type": "code",
   "execution_count": 4,
   "metadata": {},
   "outputs": [
    {
     "data": {
      "text/plain": [
       "'데이터과학'"
      ]
     },
     "execution_count": 4,
     "metadata": {},
     "output_type": "execute_result"
    }
   ],
   "source": [
    "# 1-2. '데이터과학'을 pop을 통해서 삭제하시오\n",
    "hobby.pop(0)"
   ]
  },
  {
   "cell_type": "code",
   "execution_count": 5,
   "metadata": {},
   "outputs": [
    {
     "data": {
      "text/plain": [
       "['배드민턴', '테니스', '수영']"
      ]
     },
     "execution_count": 5,
     "metadata": {},
     "output_type": "execute_result"
    }
   ],
   "source": [
    "# 1-3. '파이썬'을 remove를 통해서 삭제하시오, pop과 remove의 차이점은?\n",
    "hobby.remove('파이썬')\n",
    "hobby\n",
    "#remove는 특정자료 기준, pop은 인덱스로 삭제"
   ]
  },
  {
   "cell_type": "code",
   "execution_count": 6,
   "metadata": {},
   "outputs": [
    {
     "data": {
      "text/plain": [
       "['배드민턴', '테니스', '수영', ['쌀국수', '메밀소바']]"
      ]
     },
     "execution_count": 6,
     "metadata": {},
     "output_type": "execute_result"
    }
   ],
   "source": [
    "# 1-4. 기존리스트에 '쌀국수', '메밀소바' 리스트를 추가하시오\n",
    "hobby.append(['쌀국수', '메밀소바'])\n",
    "hobby"
   ]
  },
  {
   "cell_type": "code",
   "execution_count": 7,
   "metadata": {},
   "outputs": [
    {
     "data": {
      "text/plain": [
       "(4, 4)"
      ]
     },
     "execution_count": 7,
     "metadata": {},
     "output_type": "execute_result"
    }
   ],
   "source": [
    "# 1-5. hobby의 길이와 0번째 자료의 길이를 구하라, 차이점은? \n",
    "len(hobby), len(hobby[0])\n",
    "#리스트의 길이, 문자의 길이"
   ]
  },
  {
   "cell_type": "code",
   "execution_count": 11,
   "metadata": {},
   "outputs": [
    {
     "data": {
      "text/plain": [
       "2"
      ]
     },
     "execution_count": 11,
     "metadata": {},
     "output_type": "execute_result"
    }
   ],
   "source": [
    "# 1-6. '수영'의 위치를 찾고 인덱스를 이용해서 출력하라\n",
    "hobby.index('수영')"
   ]
  },
  {
   "cell_type": "code",
   "execution_count": 10,
   "metadata": {},
   "outputs": [
    {
     "data": {
      "text/plain": [
       "'수영'"
      ]
     },
     "execution_count": 10,
     "metadata": {},
     "output_type": "execute_result"
    }
   ],
   "source": [
    "hobby[2]"
   ]
  },
  {
   "cell_type": "code",
   "execution_count": null,
   "metadata": {},
   "outputs": [],
   "source": []
  }
 ],
 "metadata": {
  "kernelspec": {
   "display_name": "Python 3",
   "language": "python",
   "name": "python3"
  },
  "language_info": {
   "codemirror_mode": {
    "name": "ipython",
    "version": 3
   },
   "file_extension": ".py",
   "mimetype": "text/x-python",
   "name": "python",
   "nbconvert_exporter": "python",
   "pygments_lexer": "ipython3",
   "version": "3.7.4"
  }
 },
 "nbformat": 4,
 "nbformat_minor": 2
}
