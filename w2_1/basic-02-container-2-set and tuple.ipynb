{
 "cells": [
  {
   "cell_type": "markdown",
   "metadata": {},
   "source": [
    "# 셋(set)"
   ]
  },
  {
   "cell_type": "markdown",
   "metadata": {},
   "source": [
    "## contents"
   ]
  },
  {
   "cell_type": "markdown",
   "metadata": {},
   "source": [
    "- 생성 방법 `{}`, `set()`\n",
    "- 중복 허용 안함\n",
    "- 집합 연산 가능(합,교,차,여 등)"
   ]
  },
  {
   "cell_type": "markdown",
   "metadata": {},
   "source": [
    "- 추가, `set.add(x)`\n",
    "- 삭제, `set.remove(x)`\n",
    "- 합집합, `a|b`, a.union(b)\n",
    "- 교집합, `a&b`, a.intersection(b)\n",
    "- 차집합, `a-b`, a.difference(b)\n",
    "- 대칭차집합, `a^b`, a.symmetric_difference(b)\n",
    "- 부분집합, `a.issubset(b)`\n",
    "- 확대집합, `a.issuperset(b)`\n",
    "- 여집합, `a.isdisjoint(b)`\n",
    "\n",
    "----"
   ]
  },
  {
   "cell_type": "markdown",
   "metadata": {},
   "source": [
    "- 생성 방법 `{}`, `set()`\n",
    "- 중복 허용 안함"
   ]
  },
  {
   "cell_type": "code",
   "execution_count": 14,
   "metadata": {},
   "outputs": [
    {
     "data": {
      "text/plain": [
       "set"
      ]
     },
     "execution_count": 14,
     "metadata": {},
     "output_type": "execute_result"
    }
   ],
   "source": [
    "numbers = {1, 1, 2, 3, 4, 4}\n",
    "type(numbers)"
   ]
  },
  {
   "cell_type": "code",
   "execution_count": 15,
   "metadata": {},
   "outputs": [
    {
     "data": {
      "text/plain": [
       "set"
      ]
     },
     "execution_count": 15,
     "metadata": {},
     "output_type": "execute_result"
    }
   ],
   "source": [
    "numbers = [1, 1, 2, 3, 4, 4]\n",
    "numbers = set(numbers)\n",
    "type(numbers)"
   ]
  },
  {
   "cell_type": "code",
   "execution_count": 16,
   "metadata": {},
   "outputs": [],
   "source": [
    "starbucks = {'아아', '따아', '돌체라떼'}\n",
    "coffeebean = {'아아', '따아', '코코아'}"
   ]
  },
  {
   "cell_type": "code",
   "execution_count": 17,
   "metadata": {},
   "outputs": [
    {
     "data": {
      "text/plain": [
       "{'돌체라떼', '따아', '아아', '코코아'}"
      ]
     },
     "execution_count": 17,
     "metadata": {},
     "output_type": "execute_result"
    }
   ],
   "source": [
    "starbucks | coffeebean # 합집합"
   ]
  },
  {
   "cell_type": "code",
   "execution_count": 18,
   "metadata": {},
   "outputs": [
    {
     "data": {
      "text/plain": [
       "{'따아', '아아'}"
      ]
     },
     "execution_count": 18,
     "metadata": {},
     "output_type": "execute_result"
    }
   ],
   "source": [
    "starbucks & coffeebean # 교집합"
   ]
  },
  {
   "cell_type": "code",
   "execution_count": 19,
   "metadata": {},
   "outputs": [
    {
     "data": {
      "text/plain": [
       "{'돌체라떼', '코코아'}"
      ]
     },
     "execution_count": 19,
     "metadata": {},
     "output_type": "execute_result"
    }
   ],
   "source": [
    "starbucks ^ coffeebean # 대칭차집합(xor)"
   ]
  },
  {
   "cell_type": "markdown",
   "metadata": {},
   "source": [
    "![](data:image/png;base64,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)"
   ]
  },
  {
   "cell_type": "code",
   "execution_count": 20,
   "metadata": {},
   "outputs": [
    {
     "data": {
      "text/plain": [
       "{'돌체라떼'}"
      ]
     },
     "execution_count": 20,
     "metadata": {},
     "output_type": "execute_result"
    }
   ],
   "source": [
    "starbucks - coffeebean # 차집합"
   ]
  },
  {
   "cell_type": "markdown",
   "metadata": {},
   "source": [
    "- 부분집합 확인\n",
    "> a는 b의 부분집합인가?"
   ]
  },
  {
   "cell_type": "code",
   "execution_count": 22,
   "metadata": {},
   "outputs": [
    {
     "data": {
      "text/plain": [
       "True"
      ]
     },
     "execution_count": 22,
     "metadata": {},
     "output_type": "execute_result"
    }
   ],
   "source": [
    "{'돌체라떼','아아'}.issubset(starbucks)"
   ]
  },
  {
   "cell_type": "markdown",
   "metadata": {},
   "source": [
    "- 확대집합 확인\n",
    "> a는 b의 확대집합인가?"
   ]
  },
  {
   "cell_type": "code",
   "execution_count": 23,
   "metadata": {},
   "outputs": [
    {
     "data": {
      "text/plain": [
       "True"
      ]
     },
     "execution_count": 23,
     "metadata": {},
     "output_type": "execute_result"
    }
   ],
   "source": [
    "starbucks.issuperset({'돌체라떼','아아'})"
   ]
  },
  {
   "cell_type": "markdown",
   "metadata": {},
   "source": [
    "- 여집합 확인\n",
    "> disjoint = 이음매를 떼다, 두 집단이 공통원소를 가지지 않는가?"
   ]
  },
  {
   "cell_type": "code",
   "execution_count": 25,
   "metadata": {},
   "outputs": [
    {
     "data": {
      "text/plain": [
       "True"
      ]
     },
     "execution_count": 25,
     "metadata": {},
     "output_type": "execute_result"
    }
   ],
   "source": [
    "starbucks.isdisjoint({'코코아'})"
   ]
  },
  {
   "cell_type": "code",
   "execution_count": 31,
   "metadata": {
    "scrolled": true
   },
   "outputs": [
    {
     "data": {
      "text/plain": [
       "False"
      ]
     },
     "execution_count": 31,
     "metadata": {},
     "output_type": "execute_result"
    }
   ],
   "source": [
    "{'코코아'}.issubset(starbucks)"
   ]
  },
  {
   "cell_type": "markdown",
   "metadata": {},
   "source": [
    "---"
   ]
  },
  {
   "cell_type": "markdown",
   "metadata": {},
   "source": [
    "# 튜플(tuple) "
   ]
  },
  {
   "cell_type": "markdown",
   "metadata": {},
   "source": [
    "## contents\n",
    "- 생성 방법\n",
    "`()`, `tuple()`\n",
    "- list와 유사\n",
    "- 변경 불가능(immutable)\n",
    "> 주민등록번호, 위경도, RGB색상처럼 변경할 수 없는 곳에 사용\n",
    "----"
   ]
  },
  {
   "cell_type": "markdown",
   "metadata": {},
   "source": [
    "- 생성 방법 `,`, `()`, `tuple()`"
   ]
  },
  {
   "cell_type": "code",
   "execution_count": 2,
   "metadata": {},
   "outputs": [
    {
     "data": {
      "text/plain": [
       "(1, 2)"
      ]
     },
     "execution_count": 2,
     "metadata": {},
     "output_type": "execute_result"
    }
   ],
   "source": [
    "a= 1,2\n",
    "a"
   ]
  },
  {
   "cell_type": "code",
   "execution_count": 3,
   "metadata": {},
   "outputs": [
    {
     "data": {
      "text/plain": [
       "tuple"
      ]
     },
     "execution_count": 3,
     "metadata": {},
     "output_type": "execute_result"
    }
   ],
   "source": [
    "type(a)"
   ]
  },
  {
   "cell_type": "code",
   "execution_count": 8,
   "metadata": {
    "scrolled": true
   },
   "outputs": [
    {
     "data": {
      "text/plain": [
       "(90, 95, 99)"
      ]
     },
     "execution_count": 8,
     "metadata": {},
     "output_type": "execute_result"
    }
   ],
   "source": [
    "person_id = (90, 95, 99)\n",
    "person_id"
   ]
  },
  {
   "cell_type": "markdown",
   "metadata": {},
   "source": [
    "- 변경 불가능(immutable)"
   ]
  },
  {
   "cell_type": "code",
   "execution_count": 9,
   "metadata": {
    "scrolled": true
   },
   "outputs": [
    {
     "ename": "TypeError",
     "evalue": "'tuple' object does not support item assignment",
     "output_type": "error",
     "traceback": [
      "\u001b[0;31m---------------------------------------------------------------------------\u001b[0m",
      "\u001b[0;31mTypeError\u001b[0m                                 Traceback (most recent call last)",
      "\u001b[0;32m<ipython-input-9-10d8d64d5b0a>\u001b[0m in \u001b[0;36m<module>\u001b[0;34m\u001b[0m\n\u001b[0;32m----> 1\u001b[0;31m \u001b[0mperson_id\u001b[0m\u001b[0;34m[\u001b[0m\u001b[0;36m0\u001b[0m\u001b[0;34m]\u001b[0m \u001b[0;34m=\u001b[0m \u001b[0;36m91\u001b[0m \u001b[0;31m# 변경 불가능\u001b[0m\u001b[0;34m\u001b[0m\u001b[0;34m\u001b[0m\u001b[0m\n\u001b[0m",
      "\u001b[0;31mTypeError\u001b[0m: 'tuple' object does not support item assignment"
     ]
    }
   ],
   "source": [
    "person_id[0] = 91 # 변경 불가능"
   ]
  },
  {
   "cell_type": "code",
   "execution_count": null,
   "metadata": {},
   "outputs": [],
   "source": []
  }
 ],
 "metadata": {
  "kernelspec": {
   "display_name": "Python 3",
   "language": "python",
   "name": "python3"
  },
  "language_info": {
   "codemirror_mode": {
    "name": "ipython",
    "version": 3
   },
   "file_extension": ".py",
   "mimetype": "text/x-python",
   "name": "python",
   "nbconvert_exporter": "python",
   "pygments_lexer": "ipython3",
   "version": "3.7.4"
  }
 },
 "nbformat": 4,
 "nbformat_minor": 2
}
