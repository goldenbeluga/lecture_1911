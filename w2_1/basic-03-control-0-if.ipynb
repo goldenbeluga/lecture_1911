{
 "cells": [
  {
   "cell_type": "markdown",
   "metadata": {},
   "source": [
    "# 제어(control)\n",
    "- 조건문(if)\n",
    "> 조건에 따라 작업을 수행\n",
    "\n",
    "- 반복문(for, while, break, continue)\n",
    "> 반복적인 작업을 수행"
   ]
  },
  {
   "cell_type": "markdown",
   "metadata": {},
   "source": [
    "# 조건(if)\n",
    "## contents\n",
    "- if\n",
    "- else\n",
    "- elif\n",
    "\n",
    "생성 방법 `if (조건식): + 들여쓰기(indentaion)`, `elif`,`else`"
   ]
  },
  {
   "cell_type": "markdown",
   "metadata": {},
   "source": [
    "- 비교 연산자\n",
    "\n",
    "| 기호 |     의미    |\n",
    "|:----:|:-----------:|\n",
    "|  ==  |     같다    |\n",
    "|  is  |     같다    |\n",
    "|  !=  |  같지 않다  |\n",
    "|   >  |     크다    |\n",
    "|  >=  | 크거나 같다 |"
   ]
  },
  {
   "cell_type": "markdown",
   "metadata": {},
   "source": [
    "- 조건 연산자\n",
    "\n",
    "|  연산자 |                의미                |\n",
    "|:-------:|:----------------------------------:|\n",
    "| A and B |       A, B 둘 다 만족해야 참       |\n",
    "|  A or B | A나 B 둘 중에 하나라도 만족하면 참 |\n",
    "|  not A  |           A가 거짓이면 참          |"
   ]
  },
  {
   "cell_type": "markdown",
   "metadata": {},
   "source": [
    "수업 참여횟수가 8이상이면 '부자'이고 그렇지 않을 경우에는 '부자될 가능성이 없음'을 만들어보자"
   ]
  },
  {
   "cell_type": "code",
   "execution_count": 1,
   "metadata": {},
   "outputs": [],
   "source": [
    "# 1. 조건을 만든다\n",
    "number_of_participation = 8"
   ]
  },
  {
   "cell_type": "code",
   "execution_count": 2,
   "metadata": {},
   "outputs": [
    {
     "data": {
      "text/plain": [
       "True"
      ]
     },
     "execution_count": 2,
     "metadata": {},
     "output_type": "execute_result"
    }
   ],
   "source": [
    "number_of_participation >= 8 #불리언(boolean) 자료형"
   ]
  },
  {
   "cell_type": "code",
   "execution_count": 10,
   "metadata": {},
   "outputs": [
    {
     "name": "stdout",
     "output_type": "stream",
     "text": [
      "부자\n"
     ]
    }
   ],
   "source": [
    "# 2. 조건문을 만든다\n",
    "if number_of_participation >= 8: #True를 뜻함\n",
    "    print('부자')\n",
    "else: #False를 뜻함\n",
    "    print('부자될 가능성이 없음')"
   ]
  },
  {
   "cell_type": "markdown",
   "metadata": {},
   "source": [
    "- 룰1.\n",
    "2번째 라인에 :(콜론)을 꼭 붙여야 한다\n",
    "- 룰2.\n",
    "3번째 라인에 보이는 공백을 들여쓰기(indentation)라 한다\n",
    "- 룰3.\n",
    "if 와 else는 짝꿍이다.\n",
    "\n",
    "파이썬은 들여쓰기가 Space 4번 또는 Tab 1번이다.\n",
    "\n",
    "편집도구(Jupyter notebook, Vim 등)에 따라 Tab으로 들여쓰기가 안될 경우가 있음\n",
    "\n",
    "그럴경우에는 Space 4번을 해주자."
   ]
  },
  {
   "cell_type": "markdown",
   "metadata": {
    "colab_type": "text",
    "id": "yfDNayLQZ5eW"
   },
   "source": [
    "### 이런 기법을 단락 평가(short-circuit evalution)\n",
    "- 앞에 조건이 실행되면 뒤의 조건은 생략한다\n",
    "> print(부자)이 되었으니깐 else구문은 생략"
   ]
  },
  {
   "cell_type": "markdown",
   "metadata": {},
   "source": [
    "---"
   ]
  },
  {
   "cell_type": "markdown",
   "metadata": {},
   "source": [
    "- 여러가지 조건일 경우\n",
    "`elif`"
   ]
  },
  {
   "cell_type": "markdown",
   "metadata": {},
   "source": [
    "Q. 20-40살 '청년', 50-60살 '중년' 70-80살 '노년' 그 이외에는 '부럽다 너의 나이'를 출력하는 조건문 작성하라"
   ]
  },
  {
   "cell_type": "code",
   "execution_count": 6,
   "metadata": {},
   "outputs": [
    {
     "name": "stdout",
     "output_type": "stream",
     "text": [
      "나이가 어떻게 되나요?20\n",
      "청년\n"
     ]
    }
   ],
   "source": [
    "age = input(\"나이가 어떻게 되나요?\")\n",
    "age=int(age)\n",
    "if age >= 20 and age < 50:\n",
    "    print('청년')\n",
    "elif age >= 50 and age < 70:\n",
    "    print('중년')\n",
    "elif age >= 70 and age < 80:\n",
    "    print('노년')\n",
    "else:\n",
    "    print('부럽다 너의 나이')"
   ]
  },
  {
   "cell_type": "markdown",
   "metadata": {},
   "source": [
    "- pass\n",
    "> 코드 추가를 해야하는 부분(place-holder)에 책갈피 해놓기"
   ]
  },
  {
   "cell_type": "code",
   "execution_count": 11,
   "metadata": {},
   "outputs": [],
   "source": [
    "x = 0\n",
    "if x < 0 :\n",
    "    print('negative')\n",
    "elif x == 0:\n",
    "    pass \n",
    "else:\n",
    "    print('positive')"
   ]
  },
  {
   "cell_type": "markdown",
   "metadata": {},
   "source": [
    "`pass`를 찾아 다시 작업 시작"
   ]
  },
  {
   "cell_type": "code",
   "execution_count": 12,
   "metadata": {},
   "outputs": [
    {
     "name": "stdout",
     "output_type": "stream",
     "text": [
      "neutral\n"
     ]
    }
   ],
   "source": [
    "x = 0\n",
    "if x < 0 :\n",
    "    print('negative')\n",
    "elif x == 0:\n",
    "    print('neutral')\n",
    "else:\n",
    "    print('positive')"
   ]
  },
  {
   "cell_type": "markdown",
   "metadata": {},
   "source": [
    "# `==` vs. `is`"
   ]
  },
  {
   "cell_type": "markdown",
   "metadata": {},
   "source": [
    "- 같다를 뜻함"
   ]
  },
  {
   "cell_type": "code",
   "execution_count": 1,
   "metadata": {},
   "outputs": [],
   "source": [
    "a = 1\n",
    "b = 1"
   ]
  },
  {
   "cell_type": "code",
   "execution_count": 2,
   "metadata": {},
   "outputs": [
    {
     "data": {
      "text/plain": [
       "True"
      ]
     },
     "execution_count": 2,
     "metadata": {},
     "output_type": "execute_result"
    }
   ],
   "source": [
    "a == b"
   ]
  },
  {
   "cell_type": "code",
   "execution_count": 3,
   "metadata": {},
   "outputs": [
    {
     "data": {
      "text/plain": [
       "True"
      ]
     },
     "execution_count": 3,
     "metadata": {},
     "output_type": "execute_result"
    }
   ],
   "source": [
    "a is b"
   ]
  },
  {
   "cell_type": "markdown",
   "metadata": {},
   "source": [
    "> variable 강의에서 변수는 메모리 주소를 갖는다고 했다."
   ]
  },
  {
   "cell_type": "code",
   "execution_count": 4,
   "metadata": {},
   "outputs": [
    {
     "data": {
      "text/plain": [
       "1922740448"
      ]
     },
     "execution_count": 4,
     "metadata": {},
     "output_type": "execute_result"
    }
   ],
   "source": [
    "id(a)"
   ]
  },
  {
   "cell_type": "code",
   "execution_count": 5,
   "metadata": {},
   "outputs": [
    {
     "data": {
      "text/plain": [
       "1922740448"
      ]
     },
     "execution_count": 5,
     "metadata": {},
     "output_type": "execute_result"
    }
   ],
   "source": [
    "id(b)"
   ]
  },
  {
   "cell_type": "code",
   "execution_count": 6,
   "metadata": {},
   "outputs": [
    {
     "data": {
      "text/plain": [
       "1922740448"
      ]
     },
     "execution_count": 6,
     "metadata": {},
     "output_type": "execute_result"
    }
   ],
   "source": [
    "id(1)"
   ]
  },
  {
   "cell_type": "markdown",
   "metadata": {},
   "source": [
    "Quiz. \n",
    "\n",
    "```python\n",
    "a = 257\n",
    "b = 257\n",
    "a == b\n",
    "a is b\n",
    "```\n",
    "는 어떻게 나올까?"
   ]
  },
  {
   "cell_type": "code",
   "execution_count": 16,
   "metadata": {},
   "outputs": [],
   "source": [
    "a = 257\n",
    "b = 257"
   ]
  },
  {
   "cell_type": "code",
   "execution_count": 17,
   "metadata": {},
   "outputs": [
    {
     "data": {
      "text/plain": [
       "True"
      ]
     },
     "execution_count": 17,
     "metadata": {},
     "output_type": "execute_result"
    }
   ],
   "source": [
    "a == b"
   ]
  },
  {
   "cell_type": "code",
   "execution_count": 18,
   "metadata": {},
   "outputs": [
    {
     "data": {
      "text/plain": [
       "False"
      ]
     },
     "execution_count": 18,
     "metadata": {},
     "output_type": "execute_result"
    }
   ],
   "source": [
    "a is b"
   ]
  },
  {
   "cell_type": "markdown",
   "metadata": {},
   "source": [
    "> # ?"
   ]
  },
  {
   "cell_type": "code",
   "execution_count": 19,
   "metadata": {},
   "outputs": [
    {
     "data": {
      "text/plain": [
       "(140309737636112, 140309737636592)"
      ]
     },
     "execution_count": 19,
     "metadata": {},
     "output_type": "execute_result"
    }
   ],
   "source": [
    "id(a), id(b)"
   ]
  },
  {
   "cell_type": "markdown",
   "metadata": {},
   "source": [
    "`==` is for value equality. (값 비교)\n",
    "\n",
    "`is` is for reference equality. (참조 비교)\n",
    "- 파이썬은 int의 경우 -5 ~ 256 까지는 내부적으로 캐시 되어 있다.\n",
    "--> 같은 메모리 주소를 참조하게 됨\n",
    "- 캐시: \"어질러진 방에서 원하는 물건을 한 번에 찾을 수 있다\", 빠르게 꺼낼 수 있는 공간\n"
   ]
  },
  {
   "cell_type": "markdown",
   "metadata": {},
   "source": [
    "# if else "
   ]
  },
  {
   "cell_type": "code",
   "execution_count": 20,
   "metadata": {},
   "outputs": [
    {
     "data": {
      "text/plain": [
       "3"
      ]
     },
     "execution_count": 20,
     "metadata": {},
     "output_type": "execute_result"
    }
   ],
   "source": [
    "a = 1\n",
    "if a>0:\n",
    "    x = 3\n",
    "else:\n",
    "    x = 0\n",
    "x"
   ]
  },
  {
   "cell_type": "code",
   "execution_count": 21,
   "metadata": {
    "colab": {},
    "colab_type": "code",
    "id": "4vgIkkytZ5ec",
    "outputId": "d7119590-1c91-44b3-c545-5af6940f710c"
   },
   "outputs": [
    {
     "data": {
      "text/plain": [
       "3"
      ]
     },
     "execution_count": 21,
     "metadata": {},
     "output_type": "execute_result"
    }
   ],
   "source": [
    "a = 1\n",
    "x = 3 if a>0 else 0\n",
    "x"
   ]
  },
  {
   "cell_type": "code",
   "execution_count": 3,
   "metadata": {},
   "outputs": [
    {
     "data": {
      "text/plain": [
       "'부자'"
      ]
     },
     "execution_count": 3,
     "metadata": {},
     "output_type": "execute_result"
    }
   ],
   "source": [
    "'부자' if number_of_participation >= 8 else '부자될 가능성이 없음'"
   ]
  },
  {
   "cell_type": "code",
   "execution_count": 25,
   "metadata": {
    "colab": {},
    "colab_type": "code",
    "id": "44W0KH__Z5ek",
    "outputId": "2915e6c5-2671-4da6-9a4a-4914d69669d2"
   },
   "outputs": [
    {
     "data": {
      "text/plain": [
       "4"
      ]
     },
     "execution_count": 25,
     "metadata": {},
     "output_type": "execute_result"
    }
   ],
   "source": [
    "a = 1.5\n",
    "3 if a>1.6 else 4 if a>1 else 0"
   ]
  },
  {
   "cell_type": "markdown",
   "metadata": {},
   "source": [
    "# None"
   ]
  },
  {
   "cell_type": "code",
   "execution_count": 26,
   "metadata": {
    "colab": {},
    "colab_type": "code",
    "id": "4TTnuQulZ5dw",
    "outputId": "5ad1e7b2-2345-452e-ddca-2dd66fd9ada3"
   },
   "outputs": [
    {
     "data": {
      "text/plain": [
       "[]"
      ]
     },
     "execution_count": 26,
     "metadata": {},
     "output_type": "execute_result"
    }
   ],
   "source": [
    "[]"
   ]
  },
  {
   "cell_type": "markdown",
   "metadata": {
    "colab_type": "text",
    "id": "33UsCZcLZ5d2"
   },
   "source": [
    "## 파이썬은 존재론적 관점으로 봐야 함.\n",
    "[] 없는 애니깐 False"
   ]
  },
  {
   "cell_type": "markdown",
   "metadata": {
    "colab_type": "text",
    "id": "zebluvILZ5d3"
   },
   "source": [
    "{}, 0 얘들 똑같은 흐름 -> len해서 0 나오는 애들 다 False"
   ]
  },
  {
   "cell_type": "markdown",
   "metadata": {
    "colab_type": "text",
    "id": "q2BdCxp1Z5d4"
   },
   "source": [
    "None은?"
   ]
  },
  {
   "cell_type": "code",
   "execution_count": 27,
   "metadata": {
    "colab": {},
    "colab_type": "code",
    "id": "K7VI6An-Z5d6",
    "outputId": "b9dd196d-4e03-4ba6-abbd-88dfbfba8964"
   },
   "outputs": [
    {
     "name": "stdout",
     "output_type": "stream",
     "text": [
      "2\n"
     ]
    }
   ],
   "source": [
    "if None:\n",
    "    print(1) #true\n",
    "else:\n",
    "    print(2) #false"
   ]
  },
  {
   "cell_type": "markdown",
   "metadata": {},
   "source": [
    "# 조건연산자 주의!"
   ]
  },
  {
   "cell_type": "markdown",
   "metadata": {},
   "source": [
    "> 기본원리: and는 둘다 참일 때 True 그렇지 않으면 False"
   ]
  },
  {
   "cell_type": "markdown",
   "metadata": {},
   "source": [
    "True and True -> 뒤의 True"
   ]
  },
  {
   "cell_type": "code",
   "execution_count": 39,
   "metadata": {
    "scrolled": true
   },
   "outputs": [
    {
     "data": {
      "text/plain": [
       "3"
      ]
     },
     "execution_count": 39,
     "metadata": {},
     "output_type": "execute_result"
    }
   ],
   "source": [
    "4 and 3"
   ]
  },
  {
   "cell_type": "markdown",
   "metadata": {},
   "source": [
    "True and False -> False  \n",
    "False and True -> False"
   ]
  },
  {
   "cell_type": "code",
   "execution_count": 40,
   "metadata": {
    "colab": {},
    "colab_type": "code",
    "id": "6lLJ0auIZ5eC",
    "outputId": "ebab0563-c855-4eca-bd38-e3c029298134"
   },
   "outputs": [
    {
     "data": {
      "text/plain": [
       "[]"
      ]
     },
     "execution_count": 40,
     "metadata": {},
     "output_type": "execute_result"
    }
   ],
   "source": [
    "[] and 1"
   ]
  },
  {
   "cell_type": "code",
   "execution_count": 41,
   "metadata": {
    "colab_type": "text",
    "id": "vHuIaucxZ5eD"
   },
   "outputs": [
    {
     "data": {
      "text/plain": [
       "[]"
      ]
     },
     "execution_count": 41,
     "metadata": {},
     "output_type": "execute_result"
    }
   ],
   "source": [
    "1 and []"
   ]
  },
  {
   "cell_type": "code",
   "execution_count": 32,
   "metadata": {
    "colab": {},
    "colab_type": "code",
    "id": "py2bXUudZ5d8",
    "outputId": "6956396d-4de1-4ced-9b7b-9b5b25cd0499",
    "scrolled": true
   },
   "outputs": [
    {
     "data": {
      "text/plain": [
       "False"
      ]
     },
     "execution_count": 32,
     "metadata": {},
     "output_type": "execute_result"
    }
   ],
   "source": [
    "None == False"
   ]
  },
  {
   "cell_type": "code",
   "execution_count": 36,
   "metadata": {},
   "outputs": [
    {
     "data": {
      "text/plain": [
       "False"
      ]
     },
     "execution_count": 36,
     "metadata": {},
     "output_type": "execute_result"
    }
   ],
   "source": [
    "None is False"
   ]
  },
  {
   "cell_type": "markdown",
   "metadata": {},
   "source": [
    "None 주의해야 함"
   ]
  },
  {
   "cell_type": "code",
   "execution_count": 37,
   "metadata": {
    "colab": {},
    "colab_type": "code",
    "id": "QQ2j2AsfZ5eE"
   },
   "outputs": [],
   "source": [
    "None and 4"
   ]
  },
  {
   "cell_type": "markdown",
   "metadata": {},
   "source": [
    "> 기본원리: or은 하나만 참이면 True"
   ]
  },
  {
   "cell_type": "code",
   "execution_count": 43,
   "metadata": {},
   "outputs": [
    {
     "data": {
      "text/plain": [
       "4"
      ]
     },
     "execution_count": 43,
     "metadata": {},
     "output_type": "execute_result"
    }
   ],
   "source": [
    "4 or None"
   ]
  },
  {
   "cell_type": "code",
   "execution_count": 34,
   "metadata": {
    "colab": {},
    "colab_type": "code",
    "id": "Xi1eu6CXZ5eG",
    "outputId": "f70bdc25-cc5d-4a7c-f4f1-49da543f0ef6"
   },
   "outputs": [
    {
     "data": {
      "text/plain": [
       "4"
      ]
     },
     "execution_count": 34,
     "metadata": {},
     "output_type": "execute_result"
    }
   ],
   "source": [
    "None or 4"
   ]
  },
  {
   "cell_type": "code",
   "execution_count": 35,
   "metadata": {
    "colab": {},
    "colab_type": "code",
    "id": "tvGlNVmYZ5eM",
    "outputId": "922ac3c8-f2df-49ed-9664-746da14477c2"
   },
   "outputs": [
    {
     "name": "stdout",
     "output_type": "stream",
     "text": [
      "1\n"
     ]
    }
   ],
   "source": [
    "if None or 4:\n",
    "    print(1)\n",
    "else:\n",
    "    print(2)"
   ]
  }
 ],
 "metadata": {
  "kernelspec": {
   "display_name": "Python 3",
   "language": "python",
   "name": "python3"
  },
  "language_info": {
   "codemirror_mode": {
    "name": "ipython",
    "version": 3
   },
   "file_extension": ".py",
   "mimetype": "text/x-python",
   "name": "python",
   "nbconvert_exporter": "python",
   "pygments_lexer": "ipython3",
   "version": "3.7.4"
  }
 },
 "nbformat": 4,
 "nbformat_minor": 2
}
