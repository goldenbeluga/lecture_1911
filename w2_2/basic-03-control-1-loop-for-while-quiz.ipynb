{
 "cells": [
  {
   "cell_type": "markdown",
   "metadata": {},
   "source": [
    "# 1. for문을 이용해 1~10까지 합을 구하라\n",
    "# 2. continue를 이용해 `짠맛`을 제외하고 출력하라\n",
    "taste = ['단맛', '짠맛', '매운맛']\n",
    "# 3. while만 이용해 구구단 2,3단을 출력하라\n",
    "# 4. 사용자에게 궁금한 구구단 수를 물어보고 해당 구구단이 출력하게 하라\n",
    "#결과예) 3단이 궁금해서 3을 입력하면 구구단 3단이 출력된다.\n",
    "# 5. 단어의 첫글자를 key를 생성하여 해당 첫글자의 key를 가진 item들로 만들어라 in을 이용\n",
    "words = ['apple','banana','book','atom']\n",
    "#결과예) {'a': ['apple', 'atom'], 'b': ['banana', 'book']}"
   ]
  },
  {
   "cell_type": "code",
   "execution_count": null,
   "metadata": {},
   "outputs": [],
   "source": []
  },
  {
   "cell_type": "code",
   "execution_count": null,
   "metadata": {},
   "outputs": [],
   "source": []
  },
  {
   "cell_type": "code",
   "execution_count": 3,
   "metadata": {},
   "outputs": [
    {
     "data": {
      "text/plain": [
       "55"
      ]
     },
     "execution_count": 3,
     "metadata": {},
     "output_type": "execute_result"
    }
   ],
   "source": [
    "# 1. for문을 이용해 1~10까지 합을 구하라\n",
    "sum_1_10 = 0\n",
    "for i in range(1,11):\n",
    "    sum_1_10 += i\n",
    "sum_1_10"
   ]
  },
  {
   "cell_type": "code",
   "execution_count": 8,
   "metadata": {},
   "outputs": [
    {
     "name": "stdout",
     "output_type": "stream",
     "text": [
      "단맛\n",
      "매운맛\n"
     ]
    }
   ],
   "source": [
    "# 2. continue를 이용해 `짠맛`을 제외하고 출력하라\n",
    "taste = ['단맛', '짠맛', '매운맛']\n",
    "\n",
    "for i in taste:\n",
    "    if i == '짠맛':\n",
    "        continue\n",
    "    print(i)"
   ]
  },
  {
   "cell_type": "code",
   "execution_count": 15,
   "metadata": {},
   "outputs": [
    {
     "name": "stdout",
     "output_type": "stream",
     "text": [
      "****2단****\n",
      "2 * 1 = 2\n",
      "2 * 2 = 4\n",
      "2 * 3 = 6\n",
      "2 * 4 = 8\n",
      "2 * 5 = 10\n",
      "2 * 6 = 12\n",
      "2 * 7 = 14\n",
      "2 * 8 = 16\n",
      "2 * 9 = 18\n",
      "\n",
      "****3단****\n",
      "3 * 1 = 3\n",
      "3 * 2 = 6\n",
      "3 * 3 = 9\n",
      "3 * 4 = 12\n",
      "3 * 5 = 15\n",
      "3 * 6 = 18\n",
      "3 * 7 = 21\n",
      "3 * 8 = 24\n",
      "3 * 9 = 27\n",
      "\n"
     ]
    }
   ],
   "source": [
    "# 3. while을 이용해 구구단 2,3단을 출력하라\n",
    "i = 2\n",
    "while i < 4:\n",
    "    print('****%s단****' % i)\n",
    "    j = 1\n",
    "    while j < 10:\n",
    "        print(i,'*',j,'=',i*j)\n",
    "        j += 1\n",
    "    i += 1\n",
    "    print()"
   ]
  },
  {
   "cell_type": "code",
   "execution_count": 16,
   "metadata": {},
   "outputs": [],
   "source": [
    "# 4. 사용자에게 궁금한 구구단 수를 물어보고 해당 구구단이 출력하게 하라\n",
    "#결과예) 3단이 궁금해서 3을 입력하면 구구단 3단이 출력된다."
   ]
  },
  {
   "cell_type": "code",
   "execution_count": 3,
   "metadata": {},
   "outputs": [
    {
     "ename": "IndentationError",
     "evalue": "unexpected indent (<ipython-input-3-95de0697deee>, line 3)",
     "output_type": "error",
     "traceback": [
      "\u001b[1;36m  File \u001b[1;32m\"<ipython-input-3-95de0697deee>\"\u001b[1;36m, line \u001b[1;32m3\u001b[0m\n\u001b[1;33m    for j in range(1,10):\u001b[0m\n\u001b[1;37m    ^\u001b[0m\n\u001b[1;31mIndentationError\u001b[0m\u001b[1;31m:\u001b[0m unexpected indent\n"
     ]
    }
   ],
   "source": [
    "user = int(input('몇 단이 궁금하세요?'))\n",
    "print('구구단',user,'단을 알려드리겠습니다.')\n",
    "for j in range(1,10):\n",
    "    print(user,'*',j,'=',user*j)"
   ]
  },
  {
   "cell_type": "code",
   "execution_count": 7,
   "metadata": {},
   "outputs": [
    {
     "data": {
      "text/plain": [
       "{'a': ['apple', 'atom'], 'b': ['banana', 'book']}"
      ]
     },
     "execution_count": 7,
     "metadata": {},
     "output_type": "execute_result"
    }
   ],
   "source": [
    "# 5. 단어의 첫글자를 key를 생성하여 해당 첫글자의 key를 가진 item들로 만들어라 not in을 이용\n",
    "words = ['apple','banana','book','atom']\n",
    "#결과예) {'a': ['apple', 'atom'], 'b': ['banana', 'book']}\n",
    "dic_letter = {}\n",
    "\n",
    "for word in words:\n",
    "    letter = word[0]\n",
    "    if letter in dic_letter:\n",
    "        dic_letter[letter].append(word)\n",
    "    else:\n",
    "        dic_letter[letter] = [word]\n",
    "        \n",
    "dic_letter"
   ]
  },
  {
   "cell_type": "code",
   "execution_count": 5,
   "metadata": {},
   "outputs": [
    {
     "data": {
      "text/plain": [
       "{'a': ['apple', 'atom'], 'b': ['banana', 'book']}"
      ]
     },
     "execution_count": 5,
     "metadata": {},
     "output_type": "execute_result"
    }
   ],
   "source": [
    "# 5. 단어의 첫글자를 key를 생성하여 해당 첫글자의 key를 가진 item들로 만들어라 not in을 이용\n",
    "words = ['apple','banana','book','atom']\n",
    "#결과예) {'a': ['apple', 'atom'], 'b': ['banana', 'book']}\n",
    "dic_letter = {}\n",
    "\n",
    "for word in words:\n",
    "    letter = word[0]\n",
    "    if letter not in dic_letter:\n",
    "        dic_letter[letter] = [word]\n",
    "        print(dic_letter.items())\n",
    "    else:\n",
    "        dic_letter[letter].append(word)\n",
    "        print(dic_letter.items())\n",
    "dic_letter"
   ]
  },
  {
   "cell_type": "code",
   "execution_count": null,
   "metadata": {},
   "outputs": [],
   "source": []
  }
 ],
 "metadata": {
  "kernelspec": {
   "display_name": "Python 3",
   "language": "python",
   "name": "python3"
  },
  "language_info": {
   "codemirror_mode": {
    "name": "ipython",
    "version": 3
   },
   "file_extension": ".py",
   "mimetype": "text/x-python",
   "name": "python",
   "nbconvert_exporter": "python",
   "pygments_lexer": "ipython3",
   "version": "3.6.8"
  }
 },
 "nbformat": 4,
 "nbformat_minor": 2
}
