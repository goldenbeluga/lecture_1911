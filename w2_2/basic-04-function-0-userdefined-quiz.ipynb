{
 "cells": [
  {
   "cell_type": "markdown",
   "metadata": {},
   "source": [
    "# 1. 이름과 나이를 인자로 받아 출력하는 함수를 정의하라\n",
    "## 결과예) my_profile('장준규', 20) -> 이름은 장준규, 나이는 20\n",
    "# 2. 첫번째 인자를 0으로 입력하면 나머지 두 개 인자값들을 전부 더하고 1로 입력하면 인자값을 제대로 넣어주세요를 출력하라\n",
    "## 결과예) my_func(0,1,2) -> 3, my_func(1, 1,2) -> \"인자값 제대로 넣어요\""
   ]
  },
  {
   "cell_type": "code",
   "execution_count": 1,
   "metadata": {
    "scrolled": true
   },
   "outputs": [
    {
     "name": "stdout",
     "output_type": "stream",
     "text": [
      "이름은 장준규, 나이는 20 입니다.\n"
     ]
    }
   ],
   "source": [
    "# 1. 이름과 나이를 인자로 받아 출력하는 함수를 정의하라\n",
    "## 결과예) my_profile('장준규', 20) -> 이름은 장준규, 나이는 20\n",
    "def my_profile(name, age):\n",
    "    print(f'이름은 {name}, 나이는 {age} 입니다.')\n",
    "my_profile('장준규', 20)"
   ]
  },
  {
   "cell_type": "code",
   "execution_count": 4,
   "metadata": {},
   "outputs": [],
   "source": [
    "# 2. 첫번째 인자를 0으로 입력하면 나머지 인자값들을 더하고 1로 입력하면 인자값을 제대로 넣어주세요를 출력하라\n",
    "def my_func(a,b,c):\n",
    "    result = 0\n",
    "    if a == 0:\n",
    "        return b+c\n",
    "    else:\n",
    "        print(\"인자값을 제대로 넣어주세요.\")"
   ]
  },
  {
   "cell_type": "code",
   "execution_count": 5,
   "metadata": {
    "scrolled": true
   },
   "outputs": [
    {
     "data": {
      "text/plain": [
       "3"
      ]
     },
     "execution_count": 5,
     "metadata": {},
     "output_type": "execute_result"
    }
   ],
   "source": [
    "my_func(0,1,2)"
   ]
  },
  {
   "cell_type": "code",
   "execution_count": 6,
   "metadata": {
    "scrolled": true
   },
   "outputs": [
    {
     "name": "stdout",
     "output_type": "stream",
     "text": [
      "인자값을 제대로 넣어주세요.\n"
     ]
    }
   ],
   "source": [
    "my_func(1,1,2)"
   ]
  },
  {
   "cell_type": "code",
   "execution_count": null,
   "metadata": {},
   "outputs": [],
   "source": []
  }
 ],
 "metadata": {
  "kernelspec": {
   "display_name": "Python 3",
   "language": "python",
   "name": "python3"
  },
  "language_info": {
   "codemirror_mode": {
    "name": "ipython",
    "version": 3
   },
   "file_extension": ".py",
   "mimetype": "text/x-python",
   "name": "python",
   "nbconvert_exporter": "python",
   "pygments_lexer": "ipython3",
   "version": "3.6.8"
  }
 },
 "nbformat": 4,
 "nbformat_minor": 2
}
