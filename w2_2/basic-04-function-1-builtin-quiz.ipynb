{
 "cells": [
  {
   "cell_type": "markdown",
   "metadata": {},
   "source": [
    "# 1. lambda를 이용해서 [-10, 1, 3]의 절대값이 가장 큰 값을 찾아라\n",
    "# 2. lambda와 map을 이용해서 [1,2,3]의 제곱수를 구해라\n",
    "# 3. filter, map을 사용해서 [1,2,3,4]에서 짝수만 찾아내어 제곱하라\n",
    "# 4. enumerate, for을 사용하여 자기계발 종류와 유형을 순서와 함께 출력\n",
    "0 ('python', 'coding')  \n",
    "1 ('tennis', 'exercise')"
   ]
  },
  {
   "cell_type": "code",
   "execution_count": 1,
   "metadata": {},
   "outputs": [
    {
     "data": {
      "text/plain": [
       "-10"
      ]
     },
     "execution_count": 1,
     "metadata": {},
     "output_type": "execute_result"
    }
   ],
   "source": [
    "# 1. lambda를 이용해서 [-10, 1, 3]의 절대값이 가장 큰 값을 찾아라\n",
    "max([-10,1,3], key = lambda value: abs(value))"
   ]
  },
  {
   "cell_type": "code",
   "execution_count": 2,
   "metadata": {},
   "outputs": [
    {
     "data": {
      "text/plain": [
       "[1, 4, 9]"
      ]
     },
     "execution_count": 2,
     "metadata": {},
     "output_type": "execute_result"
    }
   ],
   "source": [
    "# 2. lambda와 map을 이용해서 [1,2,3]의 제곱수를 구해라\n",
    "list(map(lambda value: value**2, [1, 2, 3]))"
   ]
  },
  {
   "cell_type": "code",
   "execution_count": 3,
   "metadata": {},
   "outputs": [
    {
     "data": {
      "text/plain": [
       "[4, 16]"
      ]
     },
     "execution_count": 3,
     "metadata": {},
     "output_type": "execute_result"
    }
   ],
   "source": [
    "# 3. filter, map을 사용해서 [1,2,3,4]에서 짝수만 찾아내어 제곱하라\n",
    "test = [1,2,3,4]\n",
    "def judge_fn(value):\n",
    "    return value % 2 == 0 # 짝수만 pass\n",
    "def power_fn(value):\n",
    "    return value ** 2\n",
    "list(map(power_fn, filter(judge_fn,test)))"
   ]
  },
  {
   "cell_type": "code",
   "execution_count": 13,
   "metadata": {},
   "outputs": [
    {
     "name": "stdout",
     "output_type": "stream",
     "text": [
      "0 ('python', 'coding')\n",
      "1 ('tennis', 'exercise')\n"
     ]
    }
   ],
   "source": [
    "# 4. enumerate, for을 사용하여 자기계발 종류와 유형을 순서와 함께 출력\n",
    "acts = ['python','tennis']\n",
    "types = ['coding','exercise']\n",
    "for i, (index1) in enumerate(zip(acts, types)):\n",
    "    print(i,index1)"
   ]
  },
  {
   "cell_type": "code",
   "execution_count": 12,
   "metadata": {},
   "outputs": [
    {
     "name": "stdout",
     "output_type": "stream",
     "text": [
      "0 python coding\n",
      "1 tennis exercise\n"
     ]
    }
   ],
   "source": [
    "# 4. enumerate, for을 사용하여 자기계발 종류와 유형을 순서와 함께 출력\n",
    "acts = ['python','tennis']\n",
    "types = ['coding','exercise']\n",
    "for i, (index1,index2) in enumerate(zip(acts, types)):\n",
    "    print(i,index1,index2)"
   ]
  },
  {
   "cell_type": "code",
   "execution_count": null,
   "metadata": {},
   "outputs": [],
   "source": []
  }
 ],
 "metadata": {
  "kernelspec": {
   "display_name": "Python 3",
   "language": "python",
   "name": "python3"
  },
  "language_info": {
   "codemirror_mode": {
    "name": "ipython",
    "version": 3
   },
   "file_extension": ".py",
   "mimetype": "text/x-python",
   "name": "python",
   "nbconvert_exporter": "python",
   "pygments_lexer": "ipython3",
   "version": "3.6.8"
  }
 },
 "nbformat": 4,
 "nbformat_minor": 2
}
