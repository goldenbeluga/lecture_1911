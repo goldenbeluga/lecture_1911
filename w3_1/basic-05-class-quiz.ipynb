{
 "cells": [
  {
   "cell_type": "markdown",
   "metadata": {},
   "source": [
    "# 1. 자동차 클래스를 만들어라. 본인이 생각하는 속성과 메서드가 포함되어야 한다.\n",
    "# 2. MyMath클래스를 만들고 더하기 기능을 갖춘 my_add와 현재 결과값을 출력하는 my_result 함수를 작성하라\n"
   ]
  },
  {
   "cell_type": "code",
   "execution_count": null,
   "metadata": {},
   "outputs": [],
   "source": []
  },
  {
   "cell_type": "code",
   "execution_count": null,
   "metadata": {},
   "outputs": [],
   "source": []
  },
  {
   "cell_type": "code",
   "execution_count": null,
   "metadata": {},
   "outputs": [],
   "source": []
  },
  {
   "cell_type": "code",
   "execution_count": 9,
   "metadata": {},
   "outputs": [
    {
     "data": {
      "text/plain": [
       "'silver'"
      ]
     },
     "execution_count": 9,
     "metadata": {},
     "output_type": "execute_result"
    }
   ],
   "source": [
    "# 1. 자동차 클래스를 만들어라. 본인이 생각하는 속성과 메서드가 포함되어야 한다.\n",
    "class Car:\n",
    "    def __init__(self, color, wheel_size):\n",
    "        self.color = color #색\n",
    "        self.wheel_size = wheel_size #바퀴 크기\n",
    "        \n",
    "    def forward(self):\n",
    "        print(\"전진이 가능합니다.\")\n",
    "    def backward(self):\n",
    "        pass\n",
    "        \n",
    "silver= Car('silver',16,3000)\n",
    "silver.color"
   ]
  },
  {
   "cell_type": "code",
   "execution_count": 10,
   "metadata": {},
   "outputs": [
    {
     "name": "stdout",
     "output_type": "stream",
     "text": [
      "전진이 가능합니다.\n"
     ]
    }
   ],
   "source": [
    "silver.forward()"
   ]
  },
  {
   "cell_type": "code",
   "execution_count": 13,
   "metadata": {},
   "outputs": [],
   "source": [
    "# 2. MyMath클래스를 만들고 더하기 기능을 갖춘 my_add와 현재 결과값을 출력하는 my_result 함수를 작성하라\n",
    "class MyMath:\n",
    "    def __init__(self, value=0):\n",
    "        self.value = value\n",
    "    def my_add(self, val):\n",
    "        self.value += val\n",
    "        print(self.value)\n",
    "    def my_result(self):\n",
    "        print(self.value)"
   ]
  },
  {
   "cell_type": "code",
   "execution_count": 14,
   "metadata": {},
   "outputs": [],
   "source": [
    "test = MyMath()"
   ]
  },
  {
   "cell_type": "code",
   "execution_count": 15,
   "metadata": {},
   "outputs": [
    {
     "name": "stdout",
     "output_type": "stream",
     "text": [
      "3\n"
     ]
    }
   ],
   "source": [
    "test.my_add(3)"
   ]
  },
  {
   "cell_type": "code",
   "execution_count": 16,
   "metadata": {},
   "outputs": [
    {
     "name": "stdout",
     "output_type": "stream",
     "text": [
      "6\n"
     ]
    }
   ],
   "source": [
    "test.my_add(3)"
   ]
  },
  {
   "cell_type": "code",
   "execution_count": 17,
   "metadata": {},
   "outputs": [
    {
     "name": "stdout",
     "output_type": "stream",
     "text": [
      "6\n"
     ]
    }
   ],
   "source": [
    "test.my_result()"
   ]
  },
  {
   "cell_type": "code",
   "execution_count": null,
   "metadata": {},
   "outputs": [],
   "source": []
  }
 ],
 "metadata": {
  "kernelspec": {
   "display_name": "Python 3",
   "language": "python",
   "name": "python3"
  },
  "language_info": {
   "codemirror_mode": {
    "name": "ipython",
    "version": 3
   },
   "file_extension": ".py",
   "mimetype": "text/x-python",
   "name": "python",
   "nbconvert_exporter": "python",
   "pygments_lexer": "ipython3",
   "version": "3.6.8"
  }
 },
 "nbformat": 4,
 "nbformat_minor": 2
}
