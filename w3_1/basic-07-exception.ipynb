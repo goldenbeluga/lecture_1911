{
 "cells": [
  {
   "cell_type": "markdown",
   "metadata": {},
   "source": [
    "# exception\n",
    "- 예외 처리를 왜 해야하는가?\n",
    "- 예외 처리 여러가지 방법\n",
    "- 사용자 정의 예외 처리\n",
    "---"
   ]
  },
  {
   "cell_type": "markdown",
   "metadata": {},
   "source": [
    "에러#1"
   ]
  },
  {
   "cell_type": "code",
   "execution_count": 5,
   "metadata": {},
   "outputs": [
    {
     "name": "stdout",
     "output_type": "stream",
     "text": [
      "숫자 입력하세요: 입력하신 숫자는가\n"
     ]
    },
    {
     "ename": "ValueError",
     "evalue": "invalid literal for int() with base 10: '가'",
     "output_type": "error",
     "traceback": [
      "\u001b[1;31m---------------------------------------------------------------------------\u001b[0m",
      "\u001b[1;31mValueError\u001b[0m                                Traceback (most recent call last)",
      "\u001b[1;32m<ipython-input-5-7a9f3d97233c>\u001b[0m in \u001b[0;36m<module>\u001b[1;34m()\u001b[0m\n\u001b[1;32m----> 1\u001b[1;33m \u001b[0mint\u001b[0m\u001b[1;33m(\u001b[0m\u001b[0minput\u001b[0m\u001b[1;33m(\u001b[0m\u001b[1;34m'숫자 입력하세요: 입력하신 숫자는'\u001b[0m\u001b[1;33m)\u001b[0m\u001b[1;33m)\u001b[0m\u001b[1;33m\u001b[0m\u001b[0m\n\u001b[0m",
      "\u001b[1;31mValueError\u001b[0m: invalid literal for int() with base 10: '가'"
     ]
    }
   ],
   "source": [
    "int(input('숫자 입력하세요: 입력하신 숫자는'))"
   ]
  },
  {
   "cell_type": "markdown",
   "metadata": {},
   "source": [
    "에러#2"
   ]
  },
  {
   "cell_type": "code",
   "execution_count": 1,
   "metadata": {},
   "outputs": [
    {
     "ename": "ZeroDivisionError",
     "evalue": "division by zero",
     "output_type": "error",
     "traceback": [
      "\u001b[1;31m---------------------------------------------------------------------------\u001b[0m",
      "\u001b[1;31mZeroDivisionError\u001b[0m                         Traceback (most recent call last)",
      "\u001b[1;32m<ipython-input-1-eb9b9827e4d4>\u001b[0m in \u001b[0;36m<module>\u001b[1;34m\u001b[0m\n\u001b[0;32m      1\u001b[0m \u001b[0ma\u001b[0m\u001b[1;33m,\u001b[0m\u001b[0mb\u001b[0m \u001b[1;33m=\u001b[0m \u001b[1;36m1\u001b[0m\u001b[1;33m,\u001b[0m \u001b[1;36m0\u001b[0m\u001b[1;33m\u001b[0m\u001b[1;33m\u001b[0m\u001b[0m\n\u001b[1;32m----> 2\u001b[1;33m \u001b[0ma\u001b[0m\u001b[1;33m/\u001b[0m\u001b[0mb\u001b[0m\u001b[1;33m\u001b[0m\u001b[1;33m\u001b[0m\u001b[0m\n\u001b[0m",
      "\u001b[1;31mZeroDivisionError\u001b[0m: division by zero"
     ]
    }
   ],
   "source": [
    "a,b = 1, 0\n",
    "a/b"
   ]
  },
  {
   "cell_type": "markdown",
   "metadata": {},
   "source": [
    "![](http://talkimg.imbc.com/TVianUpload/tvian/TViews/image/2017/01/08/r0PDt80juqt0636194370141903461.jpg)"
   ]
  },
  {
   "cell_type": "markdown",
   "metadata": {},
   "source": [
    "본인이야 몇 번 본 에러라면 쉽게 고칠 수 있겠지만, 타인이 본인의 코드를 돌릴 때 오류가 발생한다면? 부장님이? 본인이 잘못한 지 모르고 일단 욕부터 하실거"
   ]
  },
  {
   "cell_type": "markdown",
   "metadata": {},
   "source": [
    "# 예외 처리\n",
    "'에러 발생시 어떻게 처리해라'를 예외처리라 한다."
   ]
  },
  {
   "cell_type": "markdown",
   "metadata": {},
   "source": [
    "에러#1 예외처리"
   ]
  },
  {
   "cell_type": "code",
   "execution_count": 6,
   "metadata": {},
   "outputs": [
    {
     "name": "stdout",
     "output_type": "stream",
     "text": [
      "숫자 입력하세요: 입력하신 숫자는가\n",
      "숫자를 입력하지 않았습니다.\n"
     ]
    }
   ],
   "source": [
    "try:\n",
    "    int(input('숫자 입력하세요: 입력하신 숫자는'))\n",
    "except ValueError:\n",
    "    print('숫자를 입력하지 않았습니다.')"
   ]
  },
  {
   "cell_type": "markdown",
   "metadata": {},
   "source": [
    "문법\n",
    "```python\n",
    "try:\n",
    "    에러 발생 가능성이 있는 코드\n",
    "except 에러 종류1 as 별명:\n",
    "    에러 발생하면 처리할 코드\n",
    "```"
   ]
  },
  {
   "cell_type": "markdown",
   "metadata": {},
   "source": [
    "에러#2 예외처리"
   ]
  },
  {
   "cell_type": "code",
   "execution_count": 10,
   "metadata": {},
   "outputs": [
    {
     "name": "stdout",
     "output_type": "stream",
     "text": [
      "0으로 나눌 수 없어요\n"
     ]
    }
   ],
   "source": [
    "a,b = 1, 0\n",
    "try:\n",
    "    a/b\n",
    "except ZeroDivisionError:\n",
    "    print('0으로 나눌 수 없어요')"
   ]
  },
  {
   "cell_type": "markdown",
   "metadata": {},
   "source": [
    "![](http://img1.daumcdn.net/thumb/R1920x0/?fname=http%3A%2F%2Fcfile5.uf.tistory.com%2Fimage%2F261CF93C5584118E34F5CF%201920w)"
   ]
  },
  {
   "cell_type": "markdown",
   "metadata": {},
   "source": [
    "문법\n",
    "```python\n",
    "try:\n",
    "    에러 발생 가능성이 있는 코드\n",
    "except 에러 종류1 as 별명:\n",
    "    에러 발생하면 처리할 코드\n",
    "except 에러 종류2:\n",
    "    에러 발생하면 처리할 코드\n",
    "else:\n",
    "    에러가 발생하지 않으면 실행할 코드\n",
    "finally:\n",
    "    에러 발생 유무와 상관없이 무조건 실행할 코드\n",
    "```"
   ]
  },
  {
   "cell_type": "markdown",
   "metadata": {},
   "source": [
    "- 여러 except 처리"
   ]
  },
  {
   "cell_type": "code",
   "execution_count": 25,
   "metadata": {},
   "outputs": [
    {
     "name": "stdout",
     "output_type": "stream",
     "text": [
      "인덱스를 선택하세요\n",
      "7\n",
      "인덱스 범위를 벗어났어요 \n",
      "list index out of range\n"
     ]
    }
   ],
   "source": [
    "test = [1, 2, 3]\n",
    "\n",
    "try:\n",
    "    print('인덱스를 선택하세요')\n",
    "    index = int(input())\n",
    "    print(test[index]/0)\n",
    "except ZeroDivisionError:\n",
    "    print('0으로 나눌 수 없어요')\n",
    "except IndexError as e:\n",
    "    print('인덱스 범위를 벗어났어요 \\n%s' %e) "
   ]
  },
  {
   "cell_type": "markdown",
   "metadata": {},
   "source": [
    "- 에러 종류를 모르는 경우\n",
    "`except:`"
   ]
  },
  {
   "cell_type": "code",
   "execution_count": 37,
   "metadata": {},
   "outputs": [
    {
     "name": "stdout",
     "output_type": "stream",
     "text": [
      "인덱스를 선택하세요\n",
      "6\n",
      "모르는 에러가 발생했어요 을인 저에게 연락을 주세요\n"
     ]
    }
   ],
   "source": [
    "test = [1, 2, 3]\n",
    "\n",
    "try:\n",
    "    print('인덱스를 선택하세요')\n",
    "    index = int(input())\n",
    "    print(test[index]/0)\n",
    "except ZeroDivisionError:\n",
    "    print('0으로 나눌 수 없어요')\n",
    "except:\n",
    "    print('모르는 에러가 발생했어요 을인 저에게 연락을 주세요') "
   ]
  },
  {
   "cell_type": "markdown",
   "metadata": {},
   "source": [
    "- 에러가 발생하지 않았을 경우 `else:`"
   ]
  },
  {
   "cell_type": "code",
   "execution_count": 32,
   "metadata": {},
   "outputs": [
    {
     "name": "stdout",
     "output_type": "stream",
     "text": [
      "인덱스를 선택하세요\n",
      "2\n",
      "test[2]은 3입니다.\n",
      "리스트 요소값 출력 성공!\n"
     ]
    }
   ],
   "source": [
    "test = [1, 2, 3]\n",
    "\n",
    "try:\n",
    "    print('인덱스를 선택하세요')\n",
    "    index = int(input())\n",
    "    print('test[%s]은 %s입니다.' %(index, test[index]))\n",
    "except ZeroDivisionError:\n",
    "    print('0으로 나눌 수 없어요')\n",
    "except:\n",
    "    print('모르는 에러가 발생했어요')\n",
    "else:\n",
    "    print('리스트 요소값 출력 성공!')"
   ]
  },
  {
   "cell_type": "markdown",
   "metadata": {},
   "source": [
    "- 무조건 실행되는 finally"
   ]
  },
  {
   "cell_type": "code",
   "execution_count": 34,
   "metadata": {},
   "outputs": [
    {
     "name": "stdout",
     "output_type": "stream",
     "text": [
      "인덱스를 선택하세요\n",
      "2\n",
      "test[2]은 3입니다.\n",
      "리스트 요소값 출력 성공!\n",
      "except든 else든 내 알바 없고 finally를 출력해\n"
     ]
    }
   ],
   "source": [
    "test = [1, 2, 3]\n",
    "\n",
    "try:\n",
    "    print('인덱스를 선택하세요')\n",
    "    index = int(input())\n",
    "    print('test[%s]은 %s입니다.' %(index, test[index]))\n",
    "except ZeroDivisionError:\n",
    "    print('0으로 나눌 수 없어요')\n",
    "except:\n",
    "    print('모르는 에러가 발생했어요')\n",
    "else:\n",
    "    print('리스트 요소값 출력 성공!')\n",
    "finally:\n",
    "    print('except든 else든 내 알바 없고 finally를 출력해')"
   ]
  },
  {
   "cell_type": "markdown",
   "metadata": {},
   "source": [
    "> 파일을 오픈하고 에러가 발생하든 안하든 마지막은 파일을 닫아줄 때처럼 마지막이 무조건 실행되야 하는 경우에 finally를 쓰자"
   ]
  },
  {
   "cell_type": "markdown",
   "metadata": {},
   "source": [
    "[에러의 종류는 많습니다.(Base Exceptions)](https://docs.python.org/3/library/exceptions.html#exception-hierarchy)"
   ]
  },
  {
   "cell_type": "markdown",
   "metadata": {},
   "source": [
    "- 사용자 정의 예외\n",
    "> 본인이 원하는 예외를 발생시킬 수가 있다."
   ]
  },
  {
   "cell_type": "markdown",
   "metadata": {},
   "source": [
    "예외를 하나 발생시켜보자"
   ]
  },
  {
   "cell_type": "code",
   "execution_count": 68,
   "metadata": {
    "scrolled": true
   },
   "outputs": [
    {
     "ename": "Exception",
     "evalue": "예외를! 만들거야",
     "output_type": "error",
     "traceback": [
      "\u001b[1;31m---------------------------------------------------------------------------\u001b[0m",
      "\u001b[1;31mException\u001b[0m                                 Traceback (most recent call last)",
      "\u001b[1;32m<ipython-input-68-3df2c2024da5>\u001b[0m in \u001b[0;36m<module>\u001b[1;34m()\u001b[0m\n\u001b[1;32m----> 1\u001b[1;33m \u001b[1;32mraise\u001b[0m \u001b[0mException\u001b[0m\u001b[1;33m(\u001b[0m\u001b[1;34m'예외를! 만들거야'\u001b[0m\u001b[1;33m)\u001b[0m\u001b[1;33m\u001b[0m\u001b[0m\n\u001b[0m",
      "\u001b[1;31mException\u001b[0m: 예외를! 만들거야"
     ]
    }
   ],
   "source": [
    "raise Exception('예외를! 만들거야')"
   ]
  },
  {
   "cell_type": "code",
   "execution_count": 1,
   "metadata": {},
   "outputs": [
    {
     "name": "stdout",
     "output_type": "stream",
     "text": [
      "[0, 1, 2, 3, 4, 5, 6, 7, 8, 9, 10, 11, 12, 13, 14, 15, 16, 17, 18, 19, 20, 21, 22, 23, 24, 25, 26, 27, 28, 29, 30, 31, 32, 33, 34, 35, 36, 37, 38, 39, 40, 41, 42, 43, 44, 45, 46, 47, 48, 49, 50, 51, 52, 53, 54, 55, 56, 57, 58, 59, 60, 61, 62, 63, 64, 65, 66, 67, 68, 69, 70, 71, 72, 73, 74, 75, 76, 77, 78, 79, 80, 81, 82, 83, 84, 85, 86, 87, 88, 89, 90, 91, 92, 93, 94, 95, 96, 97, 98, 99, 100, 101, 102, 103, 104, 105, 106, 107, 108, 109, 110, 111, 112, 113, 114, 115, 116, 117, 118, 119, 120, 121, 122, 123, 124, 125, 126, 127, 128, 129, 130, 131, 132, 133, 134, 135, 136, 137, 138, 139, 140, 141, 142, 143, 144, 145, 146, 147, 148, 149]\n"
     ]
    }
   ],
   "source": [
    "test = list(range(150))\n",
    "print(test)"
   ]
  },
  {
   "cell_type": "code",
   "execution_count": 2,
   "metadata": {},
   "outputs": [
    {
     "data": {
      "text/plain": [
       "[0, 1, 2, 3, 4]"
      ]
     },
     "execution_count": 2,
     "metadata": {},
     "output_type": "execute_result"
    }
   ],
   "source": [
    "test[:5]"
   ]
  },
  {
   "cell_type": "markdown",
   "metadata": {},
   "source": [
    "#### 시나리오\n",
    "저희 회사 컴퓨터는 리스트를 100개 이상 호출하면 멈춰버려요. ( 컴퓨터 사양이 안좋아요 ㅜ )다른 사용자가 사용할 경우를 대비하여 예외처리를 해서 멈추는 걸 방지하려고 합니다."
   ]
  },
  {
   "cell_type": "code",
   "execution_count": 4,
   "metadata": {
    "scrolled": true
   },
   "outputs": [
    {
     "name": "stdout",
     "output_type": "stream",
     "text": [
      "인덱스를 선택하세요\n",
      "1001\n",
      "예외가 발생했습니다. 컴퓨팅 파워가 좋지 않아요. 인덱스를 100미만으로 해주세요.\n"
     ]
    }
   ],
   "source": [
    "try:\n",
    "    print('인덱스를 선택하세요')\n",
    "    index = int(input())\n",
    "    if index >= 100:\n",
    "        raise Exception('컴퓨팅 파워가 좋지 않아요. 인덱스를 100미만으로 해주세요.')\n",
    "    else:\n",
    "        print('조회하신 리스트는 아래와 같습니다 \\n',test[:index])\n",
    "except Exception as err:\n",
    "    print('예외가 발생했습니다. %s' % err)"
   ]
  },
  {
   "cell_type": "markdown",
   "metadata": {},
   "source": [
    "- 예외가 발생하면 except절부터 실행되고 그 다음에 raise가 실행된다."
   ]
  },
  {
   "cell_type": "markdown",
   "metadata": {},
   "source": [
    "> break도 비슷한 기능 아닌가요? 맞음 break는 대신 순환(loop)에서만 가능함"
   ]
  },
  {
   "cell_type": "markdown",
   "metadata": {},
   "source": [
    "간단한 예외처리 `assert`\n",
    "```python\n",
    "if not condition:\n",
    "    raise AssertionError()\n",
    "```\n",
    "> 로그인한 사용자가 지정된 사용자가 맞는지?\n",
    "\n",
    "> 크롤링한 타이틀이 똑바른지?\n"
   ]
  },
  {
   "cell_type": "code",
   "execution_count": 2,
   "metadata": {
    "scrolled": true
   },
   "outputs": [
    {
     "ename": "AssertionError",
     "evalue": "",
     "output_type": "error",
     "traceback": [
      "\u001b[1;31m---------------------------------------------------------------------------\u001b[0m",
      "\u001b[1;31mAssertionError\u001b[0m                            Traceback (most recent call last)",
      "\u001b[1;32m<ipython-input-2-5c988d90985f>\u001b[0m in \u001b[0;36m<module>\u001b[1;34m()\u001b[0m\n\u001b[0;32m      3\u001b[0m \u001b[0mb\u001b[0m\u001b[1;33m=\u001b[0m\u001b[1;36m6\u001b[0m\u001b[1;33m\u001b[0m\u001b[0m\n\u001b[0;32m      4\u001b[0m \u001b[1;33m\u001b[0m\u001b[0m\n\u001b[1;32m----> 5\u001b[1;33m \u001b[1;32massert\u001b[0m \u001b[0ma\u001b[0m\u001b[1;33m==\u001b[0m\u001b[0mb\u001b[0m\u001b[1;33m\u001b[0m\u001b[0m\n\u001b[0m\u001b[0;32m      6\u001b[0m \u001b[0mprint\u001b[0m\u001b[1;33m(\u001b[0m\u001b[1;34m'dd'\u001b[0m\u001b[1;33m)\u001b[0m\u001b[1;33m\u001b[0m\u001b[0m\n",
      "\u001b[1;31mAssertionError\u001b[0m: "
     ]
    }
   ],
   "source": [
    "a=5\n",
    "\n",
    "b=6\n",
    "\n",
    "assert a==b"
   ]
  },
  {
   "cell_type": "markdown",
   "metadata": {
    "colab_type": "text",
    "id": "BPIqqDzWZ5fB"
   },
   "source": [
    "중간중간에 계산 잘 되고 있는 지 확인하고 싶을 때 끼워놓기  \n",
    "print해놓으면 잘못되고 계속 돌자나  \n",
    "assert 넣자ㅡ"
   ]
  },
  {
   "cell_type": "markdown",
   "metadata": {},
   "source": [
    "## 파이썬 철학  \n",
    "https://docs.python.org/3/glossary.html?highlight=eafp"
   ]
  },
  {
   "cell_type": "markdown",
   "metadata": {},
   "source": [
    "- EAFP\n",
    "    - “It’s Easier to Ask Forgiveness than Permission”\n",
    "    - “허락을 구하는 것 보다 용서를 구하는 것이 쉽다”\n",
    "    - 일단 수행 시키고(try), 에러가 발생하면 그때 처리한다(except)\n",
    "- LBYL\n",
    "    - “Look Before You Leap”\n",
    "    - “누울 자리를 보고 다리를 뻗어라”\n",
    "    - 어떤 코드를 실행하기 전에 에러가 발생할만한 부분의 조건을 미리 따져본다(if)"
   ]
  },
  {
   "cell_type": "markdown",
   "metadata": {
    "colab_type": "text",
    "id": "7SspyGXZZ5fB"
   },
   "source": [
    "파이썬은 EAFP!  \n",
    "하나하나씩 체크하는 코드를 다 넣는 게 아니라 일단 돌려보고 찾자.  \n",
    "파이썬은 빨리빨리 코드 작성하는 게 좋음  "
   ]
  }
 ],
 "metadata": {
  "kernelspec": {
   "display_name": "Python 3",
   "language": "python",
   "name": "python3"
  },
  "language_info": {
   "codemirror_mode": {
    "name": "ipython",
    "version": 3
   },
   "file_extension": ".py",
   "mimetype": "text/x-python",
   "name": "python",
   "nbconvert_exporter": "python",
   "pygments_lexer": "ipython3",
   "version": "3.6.8"
  }
 },
 "nbformat": 4,
 "nbformat_minor": 2
}
