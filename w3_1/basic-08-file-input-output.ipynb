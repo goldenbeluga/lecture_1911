{
 "cells": [
  {
   "cell_type": "markdown",
   "metadata": {},
   "source": [
    "# contents\n",
    "- 파일 입출력을 왜 배워야 할까?\n",
    "- 파일 입출력 절차\n",
    "- 파일 열어서 여러가지 작업하기\n",
    "- pickle 모듈\n",
    "----\n"
   ]
  },
  {
   "cell_type": "markdown",
   "metadata": {},
   "source": [
    "## 파일 입출력을 왜 배워야 할까?"
   ]
  },
  {
   "cell_type": "markdown",
   "metadata": {},
   "source": [
    "> 우리가 작업한 것들을 저장할 수 없다면? 다시 불러올 수 없다면? 끔찍하겠죠.\n",
    "\n",
    "엑셀, 사진, 동영상 등을 컴퓨터에 저장할 수 있는 모든 것을 파일이라 합니다.\n",
    "파일을 작업하고 저장하기 위해서 입력과 출력을 배워야 합니다."
   ]
  },
  {
   "cell_type": "markdown",
   "metadata": {},
   "source": [
    "## 파일 입출력 절차\n",
    "\n",
    "`파일 열기` -> `파일 내용 읽기/쓰기` -> `파일 닫기`"
   ]
  },
  {
   "cell_type": "markdown",
   "metadata": {},
   "source": [
    "> 컴퓨터는 자원을 써서 파일을 열어요. 파일을 닫아 주지 않으면 그 자원은 계속 낭비되겠죠?"
   ]
  },
  {
   "cell_type": "markdown",
   "metadata": {},
   "source": [
    "## 파일 열어서 여러가지 작업하기\n",
    "- 파일 열기"
   ]
  },
  {
   "cell_type": "markdown",
   "metadata": {},
   "source": [
    "    - 맛보기"
   ]
  },
  {
   "cell_type": "code",
   "execution_count": 1,
   "metadata": {},
   "outputs": [
    {
     "name": "stdout",
     "output_type": "stream",
     "text": [
      "C:\\Users\\beluga\\Desktop\\Python_Lecture\\0-basic\n"
     ]
    }
   ],
   "source": [
    "import os\n",
    "print(os.getcwd())"
   ]
  },
  {
   "cell_type": "code",
   "execution_count": 123,
   "metadata": {},
   "outputs": [
    {
     "name": "stdout",
     "output_type": "stream",
     "text": [
      "우리의 미래는 밝다\n",
      "남들은 데이트하고 있을 주말\n",
      "우리는 백세시대를 대비하자\n",
      "나에게 데이터과학을 더하자\n",
      "인생은 짧고도 길다\n"
     ]
    }
   ],
   "source": [
    "file = open('test.txt','r')\n",
    "str = file.read()\n",
    "print(str)\n",
    "file.close()"
   ]
  },
  {
   "cell_type": "markdown",
   "metadata": {},
   "source": [
    "문법: `open(파일경로가 포함된 파일명, 모드)`"
   ]
  },
  {
   "cell_type": "markdown",
   "metadata": {},
   "source": [
    "- 여러가지 모드"
   ]
  },
  {
   "cell_type": "markdown",
   "metadata": {},
   "source": [
    "| 기호 |       모드      |\n",
    "|:----:|:---------------:|\n",
    "| t    | 텍스트(default) |\n",
    "| r    | 읽기(default)   |\n",
    "| b    | 바이너리        |\n",
    "| w    | 쓰기            |\n",
    "| a    | 쓰기+이어쓰기   |\n",
    "| +    | 읽기+쓰기       |"
   ]
  },
  {
   "cell_type": "markdown",
   "metadata": {},
   "source": [
    "- 파일 닫기\n",
    "`file.close()`"
   ]
  },
  {
   "cell_type": "markdown",
   "metadata": {},
   "source": [
    "- 쓰기 모드\n",
    "`file.write('내용')`"
   ]
  },
  {
   "cell_type": "code",
   "execution_count": 21,
   "metadata": {},
   "outputs": [],
   "source": [
    "file = open('w.txt', 'w')\n",
    "file.write('우리의 미래는 밝다\\n남들은 데이트하고 있을 주말\\n우리는 백세시대를 대비하자\\n나에게 데이터과학을 더하자\\n인생은 짧고도 길다') \n",
    "#개행문자 - 기능이 있는 문자 ex)줄바꿈\n",
    "file.close()"
   ]
  },
  {
   "cell_type": "markdown",
   "metadata": {},
   "source": [
    "- 파일 경로 `절대경로` vs `상대경로`\n",
    "    - 절대경로: 경로를 처음부터 끝까지 적어준다.'C:\\Users\\Administrator\\Desktop\\TIL\\00. Study Now\\Languages\\Python\\w.txt'\n",
    "    - 상대경로: `'/w.txt'` - 루트(C:)로 올라간다. `'./w.txt'` - 현재폴더에서 실행 `'../w.txt'` - 부모폴더에서 실행 `'~/w.txt'` - 현재폴더에서 실행"
   ]
  },
  {
   "cell_type": "markdown",
   "metadata": {},
   "source": [
    "![](http://cfs14.tistory.com/image/2/tistory/2008/11/07/02/46/49132d76cd19b)"
   ]
  },
  {
   "cell_type": "code",
   "execution_count": null,
   "metadata": {},
   "outputs": [],
   "source": []
  },
  {
   "cell_type": "markdown",
   "metadata": {},
   "source": [
    "### 파일 읽는 여러가지 방법\n",
    "- 읽기 모드\n",
    "`.read()`, `.readline()`, `.readlines()`"
   ]
  },
  {
   "cell_type": "code",
   "execution_count": 30,
   "metadata": {},
   "outputs": [
    {
     "name": "stdout",
     "output_type": "stream",
     "text": [
      "우리의 미래는 밝다\n",
      "남들은 데이트하고 있을 주말\n",
      "우리는 백세시대를 대비하자\n",
      "나에게 데이터과학을 더하자\n",
      "인생은 짧고도 길다\n"
     ]
    }
   ],
   "source": [
    "file = open('w.txt', 'r')\n",
    "print(file.read())\n",
    "file.close()"
   ]
  },
  {
   "cell_type": "markdown",
   "metadata": {},
   "source": [
    "> 매번 파일을 닫기 귀찮다. with문을 사용해 봅시다.\n",
    "- with는 컨텍스트 매니저(\\__enter__메소드와 \\__exit__메소드를 가진 객체)를 제공 -> with로 열리고 닫힘을 수행한다는 말\n",
    "```python\n",
    "with open(파일경로가 있는 파일명, 모드) as 별명:\n",
    "    실행 코드\n",
    "```"
   ]
  },
  {
   "cell_type": "markdown",
   "metadata": {},
   "source": [
    "- read, 전체를 읽음, 문자형 반환"
   ]
  },
  {
   "cell_type": "code",
   "execution_count": 57,
   "metadata": {},
   "outputs": [
    {
     "name": "stdout",
     "output_type": "stream",
     "text": [
      "<class 'str'>\n",
      "우리의 미래는 밝다\n",
      "남들은 데이트하고 있을 주말\n",
      "우리는 백세시대를 대비하자\n",
      "나에게 데이터과학을 더하자\n",
      "인생은 짧고도 길다\n"
     ]
    }
   ],
   "source": [
    "with open('test.txt', 'r')as t:\n",
    "    temp = t.read()\n",
    "    print(type(temp))\n",
    "    print(temp)"
   ]
  },
  {
   "cell_type": "markdown",
   "metadata": {},
   "source": [
    "- readline, 한 줄씩 읽음"
   ]
  },
  {
   "cell_type": "code",
   "execution_count": 127,
   "metadata": {},
   "outputs": [
    {
     "name": "stdout",
     "output_type": "stream",
     "text": [
      "우리의 미래는 밝다\n",
      "\n",
      "남들은 데이트하고 있을 주말\n",
      "\n"
     ]
    }
   ],
   "source": [
    "with open('test.txt', 'r')as file:\n",
    "    print(file.readline())\n",
    "    print(file.readline())"
   ]
  },
  {
   "cell_type": "markdown",
   "metadata": {},
   "source": [
    "   - 어디까지 읽었는 지 `.tell()`\n",
    "   - 원하는 위치로 이동 `.seek()`"
   ]
  },
  {
   "cell_type": "code",
   "execution_count": 15,
   "metadata": {},
   "outputs": [],
   "source": [
    "with open('tell_seek.txt','w') as file:\n",
    "    file.write('여기\\n는\\n어디인가')"
   ]
  },
  {
   "cell_type": "code",
   "execution_count": 16,
   "metadata": {},
   "outputs": [
    {
     "name": "stdout",
     "output_type": "stream",
     "text": [
      "['여기\\n', '는\\n', '어디인가']\n"
     ]
    }
   ],
   "source": [
    "with open('tell_seek.txt','r') as file:\n",
    "    print(file.readlines())"
   ]
  },
  {
   "cell_type": "code",
   "execution_count": 41,
   "metadata": {
    "scrolled": false
   },
   "outputs": [
    {
     "name": "stdout",
     "output_type": "stream",
     "text": [
      "1-첫줄에 있는 글자는 =  여기\n",
      "\n",
      "2-`여기`글짜까지 읽은 다음의 위치는 =  6\n",
      "3-둘째줄에 있는 글자는 =  는\n",
      "\n",
      "4-다시 앞 줄로 돌아가 '여'와'기'사이로 위치를 움직여서 그 후를 읽자 2\n",
      "기\n",
      "\n",
      "5-1로 이동하면 어떻게 될까? 1\n"
     ]
    },
    {
     "ename": "UnicodeDecodeError",
     "evalue": "'cp949' codec can't decode byte 0xe2 in position 2: illegal multibyte sequence",
     "output_type": "error",
     "traceback": [
      "\u001b[1;31m---------------------------------------------------------------------------\u001b[0m",
      "\u001b[1;31mUnicodeDecodeError\u001b[0m                        Traceback (most recent call last)",
      "\u001b[1;32m<ipython-input-41-b6f2755932a7>\u001b[0m in \u001b[0;36m<module>\u001b[1;34m()\u001b[0m\n\u001b[0;32m      7\u001b[0m     \u001b[0mprint\u001b[0m\u001b[1;33m(\u001b[0m\u001b[0mfile\u001b[0m\u001b[1;33m.\u001b[0m\u001b[0mreadline\u001b[0m\u001b[1;33m(\u001b[0m\u001b[1;33m)\u001b[0m\u001b[1;33m)\u001b[0m\u001b[1;33m\u001b[0m\u001b[0m\n\u001b[0;32m      8\u001b[0m     \u001b[0mprint\u001b[0m\u001b[1;33m(\u001b[0m\u001b[1;34m\"5-1로 이동하면 어떻게 될까?\"\u001b[0m\u001b[1;33m,\u001b[0m \u001b[0mfile\u001b[0m\u001b[1;33m.\u001b[0m\u001b[0mseek\u001b[0m\u001b[1;33m(\u001b[0m\u001b[1;36m1\u001b[0m\u001b[1;33m)\u001b[0m\u001b[1;33m)\u001b[0m\u001b[1;33m\u001b[0m\u001b[0m\n\u001b[1;32m----> 9\u001b[1;33m     \u001b[0mprint\u001b[0m\u001b[1;33m(\u001b[0m\u001b[0mfile\u001b[0m\u001b[1;33m.\u001b[0m\u001b[0mreadline\u001b[0m\u001b[1;33m(\u001b[0m\u001b[1;33m)\u001b[0m\u001b[1;33m)\u001b[0m\u001b[1;33m\u001b[0m\u001b[0m\n\u001b[0m\u001b[0;32m     10\u001b[0m     \u001b[0mprint\u001b[0m\u001b[1;33m(\u001b[0m\u001b[1;34m'fdf'\u001b[0m\u001b[1;33m)\u001b[0m\u001b[1;33m\u001b[0m\u001b[0m\n",
      "\u001b[1;31mUnicodeDecodeError\u001b[0m: 'cp949' codec can't decode byte 0xe2 in position 2: illegal multibyte sequence"
     ]
    }
   ],
   "source": [
    "with open('tell_seek.txt','r') as file:\n",
    "    print(\"1-첫줄에 있는 글자는 = \",file.readline())\n",
    "    print(\"2-`여기`글짜까지 읽은 다음의 위치는 = \",file.tell()) #영어, 띄어쓰기는 1바이트, 한글,개행문자는 2바이트//여(2)+기(2)+개행(2)\n",
    "    print(\"3-둘째줄에 있는 글자는 = \",file.readline())\n",
    "    \n",
    "    print(\"4-다시 앞 줄로 돌아가 '여'와'기'사이로 위치를 움직여서 그 후를 읽자\", file.seek(2))\n",
    "    print(file.readline())\n",
    "    print(\"5-1로 이동하면 어떻게 될까?\", file.seek(1))\n",
    "    print(file.readline()) #한글 인코딩 문제 #인코딩:문자를 컴퓨터가 처리하는 방식 #utf8는 3바이트"
   ]
  },
  {
   "cell_type": "markdown",
   "metadata": {},
   "source": [
    "> '여'라는 한 글자를 두 개로 나눌 순 없다. 한글이라서 서럽다."
   ]
  },
  {
   "cell_type": "markdown",
   "metadata": {},
   "source": [
    "- readlines, 전체를 읽음, 리스트 반환"
   ]
  },
  {
   "cell_type": "code",
   "execution_count": 140,
   "metadata": {},
   "outputs": [
    {
     "name": "stdout",
     "output_type": "stream",
     "text": [
      "<class 'list'>\n",
      "우리의 미래는 밝다\n",
      "\n",
      "남들은 데이트하고 있을 주말\n",
      "\n",
      "우리는 백세시대를 대비하자\n",
      "\n",
      "나에게 데이터과학을 더하자\n",
      "\n",
      "인생은 짧고도 길다\n"
     ]
    }
   ],
   "source": [
    "with open('test.txt', 'r')as t:\n",
    "    future = t.readlines()\n",
    "    print(type(future))\n",
    "    for i in future:\n",
    "        print(i)"
   ]
  },
  {
   "cell_type": "markdown",
   "metadata": {},
   "source": [
    "- 리스트를 저장하는 방법"
   ]
  },
  {
   "cell_type": "code",
   "execution_count": 63,
   "metadata": {},
   "outputs": [
    {
     "data": {
      "text/plain": [
       "['우리의 미래는 밝다\\n',\n",
       " '남들은 데이트하고 있을 주말\\n',\n",
       " '우리는 백세시대를 대비하자\\n',\n",
       " '나에게 데이터과학을 더하자\\n',\n",
       " '인생은 짧고도 길다']"
      ]
     },
     "execution_count": 63,
     "metadata": {},
     "output_type": "execute_result"
    }
   ],
   "source": [
    "future"
   ]
  },
  {
   "cell_type": "markdown",
   "metadata": {},
   "source": [
    "    - for를 이용, 보통 개발자들의 접근"
   ]
  },
  {
   "cell_type": "code",
   "execution_count": 66,
   "metadata": {},
   "outputs": [],
   "source": [
    "with open('test1.txt', 'w')as t:\n",
    "    for i in future:\n",
    "        t.write(i)"
   ]
  },
  {
   "cell_type": "code",
   "execution_count": 68,
   "metadata": {},
   "outputs": [
    {
     "name": "stdout",
     "output_type": "stream",
     "text": [
      "우리의 미래는 밝다\n",
      "\n",
      "남들은 데이트하고 있을 주말\n",
      "\n",
      "우리는 백세시대를 대비하자\n",
      "\n",
      "나에게 데이터과학을 더하자\n",
      "\n",
      "인생은 짧고도 길다\n"
     ]
    }
   ],
   "source": [
    "with open('test1.txt','r')as t:\n",
    "    future = t.readlines()\n",
    "    for i in future:\n",
    "        print(i)"
   ]
  },
  {
   "cell_type": "markdown",
   "metadata": {},
   "source": [
    "    - 간편한 함수를 찾는다->writelines를 이용, 귀찮은 개발자들의 접근"
   ]
  },
  {
   "cell_type": "code",
   "execution_count": 69,
   "metadata": {},
   "outputs": [],
   "source": [
    "lines = ['우리의 미래는 밝다\\n',\n",
    " '남들은 데이트하고 있을 주말\\n',\n",
    " '우리는 백세시대를 대비하자\\n',\n",
    " '나에게 데이터과학을 더하자\\n',\n",
    " '인생은 짧고도 길다']\n",
    "\n",
    "with open('test_writelines.txt', 'w')as file:\n",
    "    file.writelines(lines)"
   ]
  },
  {
   "cell_type": "markdown",
   "metadata": {},
   "source": [
    "> 근데 바이너리 자료는 저렇게 저장 못합니다, 바이너리?"
   ]
  },
  {
   "cell_type": "markdown",
   "metadata": {},
   "source": [
    "![](https://st3.depositphotos.com/9232702/18671/v/1600/depositphotos_186719894-stock-illustration-binary-code-blue-digits-on.jpg)"
   ]
  },
  {
   "cell_type": "markdown",
   "metadata": {},
   "source": [
    "- 컴퓨터는 0, 1로 표현되는 2진수(바이너리)로 이루어져 있습니다.\n",
    "- 바이너리는 컴퓨터에서 사용하는 가장 작은 단위입니다.\n",
    "- 엑셀, 사진, 동영상 결국 바이너리 데이터입니다. 한글 '가'도 결국 바이너리의 데이터입이다. \n",
    "- 프로그램이 중간에 다 변환을 해서 컴퓨터가 인식을 합니다.\n",
    "---\n",
    "> 유통 단계에서 중간 단계가 맞아지면 가격이 비싸지겠죠?\n",
    "- 컴퓨터도 중간 단계가 있으면 자원을 많이 소비하게 됩니다.\n",
    "- 그래서 바이너리 그 자체를 저장하고 불러올 수 있으면 효율적이게 됩니다."
   ]
  },
  {
   "cell_type": "markdown",
   "metadata": {},
   "source": [
    "    - 잘 만들어진 모듈을 찾는다->pickle모듈을 이용, 분석가의 접근"
   ]
  },
  {
   "cell_type": "markdown",
   "metadata": {},
   "source": [
    "- ### pickle 모듈\n",
    "    - 원하는 데이터(사진,동영상, 모든 컴퓨터자료)를 자료형의 변환없이 저장하고 불러올 수 있음\n",
    "        - -->중간과정(변환)이 없기때문에 속도면에서 우수\n",
    "    - open의 모드는 b(바이너리)가 필수\n",
    "    - 저장하기\n",
    "        `pickle.dump(자료, 파일)`\n",
    "    - 불러오기\n",
    "        `pickle.load(파일)`"
   ]
  },
  {
   "cell_type": "code",
   "execution_count": 117,
   "metadata": {},
   "outputs": [],
   "source": [
    "lines = ['우리의 미래는 밝다\\n',\n",
    " '남들은 데이트하고 있을 주말\\n',\n",
    " '우리는 백세시대를 대비하자\\n',\n",
    " '나에게 데이터과학을 더하자\\n',\n",
    " '인생은 짧고도 길다']\n",
    "\n",
    "import pickle\n",
    "with open('test_pickle.bin', 'wb')as file:\n",
    "    pickle.dump(lines, file)"
   ]
  },
  {
   "cell_type": "code",
   "execution_count": 118,
   "metadata": {},
   "outputs": [
    {
     "name": "stdout",
     "output_type": "stream",
     "text": [
      "우리의 미래는 밝다\n",
      "\n",
      "남들은 데이트하고 있을 주말\n",
      "\n",
      "우리는 백세시대를 대비하자\n",
      "\n",
      "나에게 데이터과학을 더하자\n",
      "\n",
      "인생은 짧고도 길다\n"
     ]
    }
   ],
   "source": [
    "with open('test_pickle.bin', 'rb')as file:\n",
    "    future = pickle.load(file)\n",
    "    for i in future:\n",
    "        print(i)"
   ]
  }
 ],
 "metadata": {
  "kernelspec": {
   "display_name": "Python 3",
   "language": "python",
   "name": "python3"
  },
  "language_info": {
   "codemirror_mode": {
    "name": "ipython",
    "version": 3
   },
   "file_extension": ".py",
   "mimetype": "text/x-python",
   "name": "python",
   "nbconvert_exporter": "python",
   "pygments_lexer": "ipython3",
   "version": "3.6.8"
  }
 },
 "nbformat": 4,
 "nbformat_minor": 2
}
