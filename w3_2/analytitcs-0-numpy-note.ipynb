{
 "cells": [
  {
   "cell_type": "markdown",
   "metadata": {},
   "source": [
    "# Numpy(넘파이)\n",
    "\n",
    "- `Numerical Python`의 약자\n",
    "- 과학 연산을 위한 파이썬 핵심 라이브러리\n",
    "- 대규모 다차원 배열 연산\n",
    "- C/C ++ 및 포트란 코드 통합 도구 \n",
    "- 기본적으로 모든 원소가 같은 자료형\n",
    "> python은 느리지 않다!"
   ]
  },
  {
   "cell_type": "markdown",
   "metadata": {},
   "source": [
    "- list vs. array"
   ]
  },
  {
   "cell_type": "markdown",
   "metadata": {},
   "source": [
    "> 리스트는 여러가지 자료형을 넣을 수 있기 때문에\n",
    "연산을 할 때 하나씩 컴퓨터가 type을 확인을 한다.  \n",
    "그러나 배열은 동일한 자료만 있기 때문에 컴퓨터가 하나씩 자료형을 확인하지 않고 바로 연산이 가능하다.  \n",
    "버스 탈 때 현금 vs. 카드"
   ]
  },
  {
   "cell_type": "markdown",
   "metadata": {},
   "source": [
    "# 넘파이 가져오기"
   ]
  },
  {
   "cell_type": "markdown",
   "metadata": {},
   "source": [
    "- 속도비교"
   ]
  },
  {
   "cell_type": "code",
   "execution_count": 1,
   "metadata": {
    "scrolled": true
   },
   "outputs": [
    {
     "name": "stdout",
     "output_type": "stream",
     "text": [
      "345 µs ± 13.2 µs per loop (mean ± std. dev. of 7 runs, 1000 loops each)\n"
     ]
    }
   ],
   "source": [
    "#참고만\n",
    "list_square = range(1000)\n",
    "%timeit [i**2 for i in list_square]"
   ]
  },
  {
   "cell_type": "code",
   "execution_count": 5,
   "metadata": {},
   "outputs": [
    {
     "name": "stdout",
     "output_type": "stream",
     "text": [
      "1.75 µs ± 74.8 ns per loop (mean ± std. dev. of 7 runs, 1000000 loops each)\n"
     ]
    }
   ],
   "source": [
    "#참고만\n",
    "array_square = np.arange(1000)\n",
    "%timeit array_square**2"
   ]
  },
  {
   "cell_type": "markdown",
   "metadata": {},
   "source": [
    "# 넘파이 배열 만들기\n",
    "- `np.array([],[],...)`\n",
    "> 안에 대괄호는 리스트 X"
   ]
  },
  {
   "cell_type": "markdown",
   "metadata": {},
   "source": [
    "- 1차원 배열 만들기\n",
    "- vector라고도 부름"
   ]
  },
  {
   "cell_type": "markdown",
   "metadata": {},
   "source": [
    "- nddray 자료구조"
   ]
  },
  {
   "cell_type": "markdown",
   "metadata": {},
   "source": [
    "> 넘파이가 제공하는 특수한 배열 자료구조 ndarray  \n",
    "> `N-dimensional Array`의 약자"
   ]
  },
  {
   "cell_type": "markdown",
   "metadata": {},
   "source": [
    "Q. `q_list = [1, 2, 3]` , `arr = np.array([1, 2, 3])` 에 있는 값을 두 배하라."
   ]
  },
  {
   "cell_type": "markdown",
   "metadata": {},
   "source": [
    "> 2를 곱해볼까?"
   ]
  },
  {
   "cell_type": "markdown",
   "metadata": {},
   "source": [
    "> ndarry에 더 간단하게 계산이 가능"
   ]
  },
  {
   "cell_type": "markdown",
   "metadata": {},
   "source": [
    "- 벡터화 연산(vectorized operation)\n",
    "> 각 원소에 대하여 반복 연산을 한 번에 처리"
   ]
  },
  {
   "cell_type": "markdown",
   "metadata": {},
   "source": [
    "> for문을 이용하는 것보다 계산속도 훨씬 빠르다"
   ]
  },
  {
   "cell_type": "markdown",
   "metadata": {},
   "source": [
    "- map 복습"
   ]
  },
  {
   "cell_type": "markdown",
   "metadata": {},
   "source": [
    "## 넘파이 연산"
   ]
  },
  {
   "cell_type": "markdown",
   "metadata": {},
   "source": [
    "> 넘파이 배열은 각 원소의 개수가 같아야함  \n",
    "> 또는 하나의 값이면 가능"
   ]
  },
  {
   "cell_type": "markdown",
   "metadata": {},
   "source": [
    "## N차원 배열 만들기"
   ]
  },
  {
   "cell_type": "markdown",
   "metadata": {},
   "source": [
    "- 직사각형 형태를 따른다."
   ]
  },
  {
   "cell_type": "markdown",
   "metadata": {},
   "source": [
    "![](https://www.safaribooksonline.com/library/view/elegant-scipy/9781491922927/assets/elsp_0105.png)"
   ]
  },
  {
   "cell_type": "markdown",
   "metadata": {},
   "source": [
    "## 2차원 배열 만들기\n",
    "   - 가로 - 행(row)과 세로 - 열(column)\n",
    "   - 행렬(matrix)로 불림"
   ]
  },
  {
   "cell_type": "markdown",
   "metadata": {},
   "source": [
    "> 어차피 개수가 다 같으니깐 열의 개수는 인덱스에 상관없이 동일함"
   ]
  },
  {
   "cell_type": "markdown",
   "metadata": {},
   "source": [
    "Q. arr5 = np.array([[7,8],[1,2]]) 와 arr4의 합과 곱을 구하라"
   ]
  },
  {
   "cell_type": "markdown",
   "metadata": {},
   "source": [
    "> ?? 행렬의 곱이 왜 저런가 ?? ndarray만의 특성  \n",
    "우리가 아는 행렬의 곱은 dot이란 함수를 사용"
   ]
  },
  {
   "cell_type": "markdown",
   "metadata": {},
   "source": [
    "## 3차원 배열 만들기\n",
    "   - Tensor(텐서)라 불림"
   ]
  },
  {
   "cell_type": "markdown",
   "metadata": {},
   "source": [
    "Q. 1~16을 3차원으로 2행 4열로 만들어라."
   ]
  },
  {
   "cell_type": "markdown",
   "metadata": {},
   "source": [
    "Q. arr6의 행,열,면,차원의 개수는?"
   ]
  },
  {
   "cell_type": "markdown",
   "metadata": {},
   "source": [
    "## 배열 인덱싱"
   ]
  },
  {
   "cell_type": "markdown",
   "metadata": {},
   "source": [
    "## 배열 슬라이싱\n"
   ]
  },
  {
   "cell_type": "markdown",
   "metadata": {},
   "source": [
    "#### 팬시 인덱싱(fancy indexing)\n",
    "- 배열을 인덱싱에 사용\n",
    "> `arr[[1]]` 과 `arr[1]`은 다른 것임, 헷갈리지 마세요~  \n",
    "전자는 팬시 인덱싱이고 후자는 일반 인덱싱\n",
    "\n",
    "- 배열안에 불리언으로 인덱싱할 경우 요소의 개수가 같아야함\n"
   ]
  },
  {
   "cell_type": "markdown",
   "metadata": {},
   "source": [
    "불리언의 경우 인덱싱 요소 개수와 면의 크기가 같아야함  \n",
    "2개는 무조건 나와야 함"
   ]
  },
  {
   "cell_type": "markdown",
   "metadata": {},
   "source": [
    "순서로 인덱싱 됨  \n",
    "1단계 True, False로 [1,2,3,4],[5,6,7,8]이 필터 되고  \n",
    "2단계 True, True로 두 배열 전부 불러오는 것임  "
   ]
  },
  {
   "cell_type": "markdown",
   "metadata": {},
   "source": [
    "Q. 1,3를 출력하는 인덱싱은?"
   ]
  },
  {
   "cell_type": "markdown",
   "metadata": {},
   "source": [
    "- 인덱스로 접근"
   ]
  },
  {
   "cell_type": "markdown",
   "metadata": {},
   "source": [
    "얘는 조합으로 인덱싱 됨   \n",
    "1단계 0 0 0 0면 0행 0열  \n",
    "2단계 0 0 2 0면 0행 2열"
   ]
  },
  {
   "cell_type": "markdown",
   "metadata": {},
   "source": [
    "# 둘이 작동방법이 다름!"
   ]
  },
  {
   "cell_type": "markdown",
   "metadata": {},
   "source": [
    "---"
   ]
  },
  {
   "cell_type": "markdown",
   "metadata": {},
   "source": [
    "> 배열안에서 범위로 인덱싱 불가능"
   ]
  },
  {
   "cell_type": "markdown",
   "metadata": {},
   "source": [
    "> l. 범위 인덱싱 하면 된다."
   ]
  },
  {
   "cell_type": "markdown",
   "metadata": {},
   "source": [
    "Q. arr6을 아래처럼 인덱싱 해보아라\n",
    "```python\n",
    "array([[11, 12],\n",
    "       [ 7,  8],\n",
    "       [15, 16]])\n",
    "```"
   ]
  },
  {
   "cell_type": "markdown",
   "metadata": {},
   "source": [
    "- 생각의 흐름  \n",
    "마지막 2개를 가져와야 하니 범위 인덱싱을 쓰자   \n",
    "`arr6[2:]`  \n",
    "11,12는 2차원의 첫번째 행 해당 `arr6[[1],[0],2:]`  \n",
    "7, 8은 1차원의 두번째 행 해당  \n",
    "15, 16은 2차원의 두번째 행 해당"
   ]
  },
  {
   "cell_type": "code",
   "execution_count": null,
   "metadata": {},
   "outputs": [],
   "source": []
  },
  {
   "cell_type": "code",
   "execution_count": null,
   "metadata": {},
   "outputs": [],
   "source": []
  },
  {
   "cell_type": "code",
   "execution_count": null,
   "metadata": {},
   "outputs": [],
   "source": []
  }
 ],
 "metadata": {
  "kernelspec": {
   "display_name": "Python 3",
   "language": "python",
   "name": "python3"
  },
  "language_info": {
   "codemirror_mode": {
    "name": "ipython",
    "version": 3
   },
   "file_extension": ".py",
   "mimetype": "text/x-python",
   "name": "python",
   "nbconvert_exporter": "python",
   "pygments_lexer": "ipython3",
   "version": "3.6.8"
  }
 },
 "nbformat": 4,
 "nbformat_minor": 2
}
