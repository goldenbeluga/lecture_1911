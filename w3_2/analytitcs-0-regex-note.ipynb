{
 "cells": [
  {
   "cell_type": "markdown",
   "metadata": {},
   "source": [
    "## Contents\n",
    "- 정규 표현식이란?\n",
    "- 왜 정규 표현식을 배워야 하나?\n",
    "- 기본 메커니즘\n",
    "- 정규표현식 Cheat Sheet\n",
    "- 참고 홈페이지"
   ]
  },
  {
   "cell_type": "markdown",
   "metadata": {},
   "source": [
    "# 정규 표현식 (Regular Expression)"
   ]
  },
  {
   "cell_type": "markdown",
   "metadata": {},
   "source": [
    "- 텍스트의 패턴을 이용해서 찾고자 하는 내용을 추출하는 표현식\n",
    "- 글 따위의 여러 문자의 모음에서 폰번호나 이메일을 추출 할 때 사용됨\n",
    "    - 폰번호의 패턴(0xx-xxxx-xxxx, x는 0~9사이), 이메일 패턴(xxxxx@xxxx.com, xxxx@gmail.com 등)\n",
    "- 정규식, Regex(뤠겍스)로도 불림, 천차만별"
   ]
  },
  {
   "cell_type": "markdown",
   "metadata": {},
   "source": [
    "https://www.clien.net/service/board/park/7724324"
   ]
  },
  {
   "cell_type": "markdown",
   "metadata": {},
   "source": [
    "## 실제 예\n",
    "- 영화 리뷰를 분석하기 위해서는 영화 리뷰에 관련한 데이터가 필요하다\n",
    "\n",
    "> 네이버 영화를 켜봅시다.\n",
    "1. 영화를 여러개 창으로 켜봅니다.\n",
    "2. URL을 비교를 합니다.\n",
    "3. `No=`다음에 붙은 숫자가 영화를 뜻 함\n",
    "\n",
    "https://movie.naver.com/movie/bi/mi/basic.nhn?code=136873  \n",
    "https://movie.naver.com/movie/bi/mi/basic.nhn?code=189053"
   ]
  },
  {
   "cell_type": "markdown",
   "metadata": {},
   "source": [
    "- 영화 내용을 수집할 때 저 숫자는 영화를 뜻하는 유니크한 숫자이기 때문에 잘 정리해놓아야 한다.\n",
    "- ex) 겨울왕국2 = 532423\n",
    "- 이렇게 정리해놓으면 우리가 겨울왕국2를 숫자로 찾을 수 있다.\n",
    "\n",
    "### !!뒤에 있는 저 숫자만 정규 표현식을 이용해서 떼어내보자"
   ]
  },
  {
   "cell_type": "markdown",
   "metadata": {},
   "source": [
    "# 기본 메커니즘\n",
    "1. **문자 하나 하나를 따로 인식**  \n",
    "`나는 사과를 먹었다.`  \n",
    "`사` `과`라는 글자는 -> `사` 다음에 `과`으로 이루어진 글자\n",
    "2. **대소문자 구별**\n",
    "apple != Apple\n"
   ]
  },
  {
   "cell_type": "code",
   "execution_count": null,
   "metadata": {},
   "outputs": [],
   "source": []
  },
  {
   "cell_type": "markdown",
   "metadata": {},
   "source": [
    "# 정규표현식 Cheat Sheet"
   ]
  },
  {
   "cell_type": "markdown",
   "metadata": {},
   "source": [
    "![다양한 정규식 패턴 표현](https://i.imgur.com/I0OV6FB.png)"
   ]
  },
  {
   "cell_type": "markdown",
   "metadata": {},
   "source": [
    "- 정규표현식 모듈 `re`"
   ]
  },
  {
   "cell_type": "code",
   "execution_count": null,
   "metadata": {},
   "outputs": [],
   "source": []
  },
  {
   "cell_type": "markdown",
   "metadata": {},
   "source": [
    "# 참고 홈페이지\n",
    "\n",
    "- 정규 표현식 연습 https://regexr.com/\n",
    "- 정규 표현식 게임 https://regexcrossword.com/"
   ]
  }
 ],
 "metadata": {
  "kernelspec": {
   "display_name": "Python 3",
   "language": "python",
   "name": "python3"
  },
  "language_info": {
   "codemirror_mode": {
    "name": "ipython",
    "version": 3
   },
   "file_extension": ".py",
   "mimetype": "text/x-python",
   "name": "python",
   "nbconvert_exporter": "python",
   "pygments_lexer": "ipython3",
   "version": "3.6.8"
  }
 },
 "nbformat": 4,
 "nbformat_minor": 2
}
