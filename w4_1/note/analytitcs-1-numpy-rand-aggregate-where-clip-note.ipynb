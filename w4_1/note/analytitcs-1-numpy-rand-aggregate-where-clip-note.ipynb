{
 "cells": [
  {
   "cell_type": "markdown",
   "metadata": {},
   "source": [
    "# Contents\n",
    "- arange\n",
    "- rand\n",
    "- aggregate\n",
    "- where\n",
    "- clip"
   ]
  },
  {
   "cell_type": "markdown",
   "metadata": {},
   "source": [
    "# range 함수"
   ]
  },
  {
   "cell_type": "markdown",
   "metadata": {},
   "source": [
    "# 난수 함수\n",
    "`np.numpy.함수명`\n",
    "- rand\n",
    "- seed\n",
    "- shuffle\n",
    "- choice\n",
    "- randint  \n",
    "- randn"
   ]
  },
  {
   "cell_type": "markdown",
   "metadata": {},
   "source": [
    "- rand  \n",
    "균등(uniform)한 비율로 표본 추출"
   ]
  },
  {
   "cell_type": "markdown",
   "metadata": {},
   "source": [
    "- seed  \n",
    "난수 재연\n",
    "> 우리 눈에는 랜덤처럼 보이지만 정해진 규칙으로 난수가 생성됨\n"
   ]
  },
  {
   "cell_type": "markdown",
   "metadata": {},
   "source": [
    "- shuffle  \n",
    "배열의 순서를 섞음"
   ]
  },
  {
   "cell_type": "markdown",
   "metadata": {},
   "source": [
    "- randint  \n",
    "주어진 범위 사이의 정수를 랜덤하게 생성  \n",
    "`numpy.random.randint(low, high=None, size=None)`  \n",
    "> numpy가 random.randint 를 가져와 수정하여 사용"
   ]
  },
  {
   "cell_type": "markdown",
   "metadata": {},
   "source": [
    "- choice  \n",
    "원하는 확률로 샘플 추출  \n",
    "`np.random.choice(array, 개수, replace, p=확률)`"
   ]
  },
  {
   "cell_type": "markdown",
   "metadata": {},
   "source": [
    "- randn  \n",
    "표준 정규 분포(standard normal distribution)에서 표본 추출  \n",
    "가우스 분포라고도함  \n",
    "평균이 0, 표준편차(분산의제곱근)가 1"
   ]
  },
  {
   "cell_type": "markdown",
   "metadata": {},
   "source": [
    "- binomial  \n",
    "이항부포에서 표본 추출\n",
    "- normal  \n",
    "정규분포에서 표본 추출\n",
    "- beta  \n",
    "베타분포에서 표본 추출\n",
    "- chisquare  \n",
    "카이제곱분포에서 표본 추출\n",
    "- gamma  \n",
    "감마분포에서 표본 추출"
   ]
  },
  {
   "cell_type": "markdown",
   "metadata": {},
   "source": [
    "# 집계 함수(Aggregate Functions)"
   ]
  },
  {
   "cell_type": "markdown",
   "metadata": {},
   "source": [
    "- 모든 집계 함수 축(AXIS)를 기준"
   ]
  },
  {
   "cell_type": "markdown",
   "metadata": {},
   "source": [
    "- 합계"
   ]
  },
  {
   "cell_type": "markdown",
   "metadata": {},
   "source": [
    "`np.sum(array, axis)`"
   ]
  },
  {
   "cell_type": "markdown",
   "metadata": {},
   "source": [
    "> 파이썬 기본에서 sum 제공하는데 얘도 배워야 하나요? 무슨 차이가 있나요?"
   ]
  },
  {
   "cell_type": "code",
   "execution_count": 14,
   "metadata": {
    "scrolled": true
   },
   "outputs": [
    {
     "name": "stdout",
     "output_type": "stream",
     "text": [
      "14.3 µs ± 343 ns per loop (mean ± std. dev. of 7 runs, 100000 loops each)\n"
     ]
    }
   ],
   "source": [
    "%timeit np.sum(np.arange(1000))"
   ]
  },
  {
   "cell_type": "code",
   "execution_count": 15,
   "metadata": {},
   "outputs": [
    {
     "name": "stdout",
     "output_type": "stream",
     "text": [
      "29.3 µs ± 396 ns per loop (mean ± std. dev. of 7 runs, 10000 loops each)\n"
     ]
    }
   ],
   "source": [
    "%timeit sum(range(1000))"
   ]
  },
  {
   "cell_type": "markdown",
   "metadata": {},
   "source": [
    "![](https://taewanmerepo.github.io/2018/01/numpy/axis_none.jpg)"
   ]
  },
  {
   "cell_type": "markdown",
   "metadata": {},
   "source": [
    "![](https://taewanmerepo.github.io/2018/01/numpy/axis_0.jpg)"
   ]
  },
  {
   "cell_type": "markdown",
   "metadata": {},
   "source": [
    "> 손가락을 ㅡ 모양으로 그리고 ㅡ모양으로 왼쪽에서 오른쪽으로 더해진다 생각하자."
   ]
  },
  {
   "cell_type": "markdown",
   "metadata": {},
   "source": [
    "![](https://taewanmerepo.github.io/2018/01/numpy/axis_1.jpg)"
   ]
  },
  {
   "cell_type": "markdown",
   "metadata": {},
   "source": [
    "- 누적합계"
   ]
  },
  {
   "cell_type": "markdown",
   "metadata": {},
   "source": [
    "- min(), max()\n",
    "- mean() `평균`, median() `중앙값`\n",
    "- corrcoef() `상관계수`\n",
    "- std() `표준편차`"
   ]
  },
  {
   "cell_type": "markdown",
   "metadata": {},
   "source": [
    "# Where"
   ]
  },
  {
   "cell_type": "markdown",
   "metadata": {},
   "source": [
    "조건에 만족할 때 배열의 해당위치를 반환"
   ]
  },
  {
   "cell_type": "markdown",
   "metadata": {},
   "source": [
    "> if else처럼 쓸 수도 있음!"
   ]
  },
  {
   "cell_type": "markdown",
   "metadata": {},
   "source": [
    "- 예시  \n",
    "카테고리 변수를 숫자로 변환할 때 사용\n",
    "```python\n",
    "# Convert categorical variable to numeric\n",
    "# embarked: Port of Embarkation: C = Cherbourg, Q = Queenstown, S = Southampton 출발항\n",
    "data[\"Sex_cleaned\"]=np.where(data[\"Sex\"]==\"male\",0,1)\n",
    "data[\"Embarked_cleaned\"]=np.where(data[\"Embarked\"]==\"S\",0,\n",
    "                                  np.where(data[\"Embarked\"]==\"C\",1,\n",
    "                                           np.where(data[\"Embarked\"]==\"Q\",2,3)\n",
    "                                          )\n",
    "                                 )\n",
    "```"
   ]
  },
  {
   "cell_type": "markdown",
   "metadata": {},
   "source": [
    "> 타이타닉 승객 데이터인데 컬럼 중에 sex,Embarked가 있다. sex는 성별이고, Embarked는 출발항을 뜻한다. Sex에는 남,여 두가지 종류로 이루어져있고 ~~~"
   ]
  },
  {
   "cell_type": "markdown",
   "metadata": {},
   "source": [
    "# clip\n",
    "`np.clip(array, min, max, 반환값 저장)`"
   ]
  },
  {
   "cell_type": "markdown",
   "metadata": {},
   "source": [
    "- 예시  \n",
    "배열에 수많은 확률값이 저장되어 있다.   \n",
    "곱 연산 중 0이 있으면 결과는 무조건 0이 된다.  \n",
    "0이 아닌 다른 값을 곱하게 해주자  \n",
    "[0,1,2,3]  -> [1,1,2,3]  \n",
    "그럴 때 리미트를 임의로 부과해야 할 때 쓰임\n",
    "```python\n",
    "#참고만\n",
    "def cross_entropy(predictions, targets, epsilon=1e-12):#확률이 0이 될 수도 있어서 0에 가까운 epsilon을 할당함\n",
    "    \"\"\"\n",
    "    Computes cross entropy between targets (encoded as one-hot vectors) and predictions. \n",
    "    Input: predictions (N, k) ndarray\n",
    "           targets (N, k) ndarray        \n",
    "    Returns: scalar\n",
    "    \"\"\"\n",
    "    predictions = np.clip(predictions, epsilon, 1.-epsilon)\n",
    "```"
   ]
  }
 ],
 "metadata": {
  "kernelspec": {
   "display_name": "Python 3",
   "language": "python",
   "name": "python3"
  },
  "language_info": {
   "codemirror_mode": {
    "name": "ipython",
    "version": 3
   },
   "file_extension": ".py",
   "mimetype": "text/x-python",
   "name": "python",
   "nbconvert_exporter": "python",
   "pygments_lexer": "ipython3",
   "version": "3.6.8"
  }
 },
 "nbformat": 4,
 "nbformat_minor": 2
}
