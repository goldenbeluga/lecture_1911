{
 "cells": [
  {
   "cell_type": "markdown",
   "metadata": {},
   "source": [
    "# Folium\n",
    "https://python-visualization.github.io/folium/index.html\n",
    "- 위치정보(위경도) 시각화\n",
    "- layer개념\n",
    "![](https://user-images.githubusercontent.com/82988/42466385-b1a1c82a-83a6-11e8-95cd-fc8da099073f.png)"
   ]
  },
  {
   "cell_type": "markdown",
   "metadata": {},
   "source": [
    "> 위경도 어디가 위도? 경도?\n",
    " - 적도는 안다."
   ]
  },
  {
   "cell_type": "markdown",
   "metadata": {},
   "source": [
    "`적`도 -> `적`은 `위`에 있는 사람 ??"
   ]
  },
  {
   "cell_type": "markdown",
   "metadata": {},
   "source": [
    "[상사짤](https://www.google.com/search?biw=959&bih=928&tbm=isch&sa=1&ei=jHDbXdnYJ5bnwQO3wYDoCw&q=%EC%A7%81%EC%9E%A5%EC%9D%B8+%EC%A7%A4+%EC%83%81%EC%82%AC&oq=%EC%A7%81%EC%9E%A5%EC%9D%B8+%EC%A7%A4+%EC%83%81%EC%82%AC&gs_l=img.3..0i8i30.86940.89848..90027...0.0..1.321.3210.0j15j3j1......0....1..gws-wiz-img.......0j0i5i30j0i30.pRR0nsGhm9w&ved=0ahUKEwjZzviQ2oTmAhWWc3AKHbcgAL0Q4dUDCAc&uact=5)"
   ]
  },
  {
   "cell_type": "markdown",
   "metadata": {},
   "source": [
    "![](http://mblogthumb3.phinf.naver.net/MjAxNzA5MjBfMjM3/MDAxNTA1ODc2MDExMjE4.I9oNaTl2tVIU2J827DIz-zTpksW464h1KwhfoJIpazcg.c8GDy9vjy2UpTrdyljFtHFS_mWrunyoOaGHB77Qwf7gg.PNG.seinlove0523/image_5698058221505875081179.png?type=w800)"
   ]
  },
  {
   "cell_type": "markdown",
   "metadata": {},
   "source": [
    "![](https://scontent-lht6-1.cdninstagram.com/vp/d168cc5e12a25a60c88fd50425e36178/5E224E5C/t51.2885-15/e35/57253571_430656971018680_4792009378886635011_n.jpg?_nc_ht=scontent-lht6-1.cdninstagram.com&_nc_cat=104&ig_cache_key=MjAyNzI3ODIwNjgzMDQ5ODQ1Ng%3D%3D.2)"
   ]
  },
  {
   "cell_type": "markdown",
   "metadata": {},
   "source": [
    "`적`도 -> `적`은 `위`에 있는 사람 -> `위`도"
   ]
  },
  {
   "cell_type": "markdown",
   "metadata": {},
   "source": [
    "### install & package"
   ]
  },
  {
   "cell_type": "markdown",
   "metadata": {},
   "source": [
    "### create a base map"
   ]
  },
  {
   "cell_type": "code",
   "execution_count": null,
   "metadata": {},
   "outputs": [],
   "source": [
    "folium.Map?"
   ]
  },
  {
   "cell_type": "markdown",
   "metadata": {},
   "source": [
    "```python\n",
    "location: tuple or list, default None\n",
    "    Latitude and Longitude of Map\n",
    "    ```"
   ]
  },
  {
   "cell_type": "markdown",
   "metadata": {},
   "source": [
    "> Latitude? Longitude? 위경도중에 하난 거 같긴한데...\n",
    "그래 이것도 쥉 강사님이 알려줄거야"
   ]
  },
  {
   "cell_type": "code",
   "execution_count": null,
   "metadata": {},
   "outputs": [],
   "source": []
  },
  {
   "cell_type": "code",
   "execution_count": null,
   "metadata": {},
   "outputs": [],
   "source": []
  },
  {
   "cell_type": "code",
   "execution_count": null,
   "metadata": {},
   "outputs": [],
   "source": []
  },
  {
   "cell_type": "code",
   "execution_count": null,
   "metadata": {},
   "outputs": [],
   "source": []
  },
  {
   "cell_type": "code",
   "execution_count": null,
   "metadata": {},
   "outputs": [],
   "source": []
  },
  {
   "cell_type": "code",
   "execution_count": null,
   "metadata": {},
   "outputs": [],
   "source": []
  },
  {
   "cell_type": "code",
   "execution_count": null,
   "metadata": {},
   "outputs": [],
   "source": []
  },
  {
   "cell_type": "markdown",
   "metadata": {},
   "source": [
    "### 위경도 좌표값 얻기\n",
    "1. 구글지도\n",
    "- 장소 검색\n",
    "- URL확인 / 오른쪽클릭-> 이곳이 궁금한가요?"
   ]
  },
  {
   "cell_type": "markdown",
   "metadata": {},
   "source": [
    "https://www.google.co.kr/maps/place/%EA%B0%95%EB%82%A8/@37.4987528,127.0250848,1151m/data=!3m1!1e3!4m8!1m2!2m1!1z6rCV64Ko7Jet!3m4!1s0x357ca1598c361b2b:0xdbf9af292beff3c!8m2!3d37.49795!4d127.027637?hl=ko"
   ]
  },
  {
   "cell_type": "markdown",
   "metadata": {},
   "source": [
    "### save"
   ]
  },
  {
   "cell_type": "markdown",
   "metadata": {},
   "source": [
    "### tile set"
   ]
  },
  {
   "cell_type": "markdown",
   "metadata": {},
   "source": [
    "```python\n",
    "    - \"OpenStreetMap\"\n",
    "    - \"Mapbox Bright\" (Limited levels of zoom for free tiles)\n",
    "    - \"Mapbox Control Room\" (Limited levels of zoom for free tiles)\n",
    "    - \"Stamen\" (Terrain, Toner, and Watercolor)\n",
    "    - \"Cloudmade\" (Must pass API key)\n",
    "    - \"Mapbox\" (Must pass API key)\n",
    "    - \"CartoDB\" (positron and dark_matter)```"
   ]
  },
  {
   "cell_type": "markdown",
   "metadata": {},
   "source": [
    "> python folium map tiles 검색"
   ]
  },
  {
   "cell_type": "code",
   "execution_count": null,
   "metadata": {},
   "outputs": [],
   "source": []
  },
  {
   "cell_type": "markdown",
   "metadata": {},
   "source": [
    "### zoom"
   ]
  },
  {
   "cell_type": "markdown",
   "metadata": {},
   "source": [
    "### marker\n",
    "- popup"
   ]
  },
  {
   "cell_type": "code",
   "execution_count": null,
   "metadata": {},
   "outputs": [],
   "source": []
  },
  {
   "cell_type": "markdown",
   "metadata": {},
   "source": [
    "- icon"
   ]
  },
  {
   "cell_type": "code",
   "execution_count": 37,
   "metadata": {},
   "outputs": [],
   "source": [
    "\n"
   ]
  },
  {
   "cell_type": "markdown",
   "metadata": {},
   "source": [
    "### Circle"
   ]
  },
  {
   "cell_type": "markdown",
   "metadata": {},
   "source": [
    "- radius(meter)"
   ]
  },
  {
   "cell_type": "markdown",
   "metadata": {},
   "source": [
    "RBG color 색상 얻기\n",
    "- http://colorbrewer2.org/\n",
    "- https://color.adobe.com/ko/trends"
   ]
  },
  {
   "cell_type": "markdown",
   "metadata": {},
   "source": [
    "# 나만의 여행지도 만들기"
   ]
  }
 ],
 "metadata": {
  "kernelspec": {
   "display_name": "Python 3",
   "language": "python",
   "name": "python3"
  },
  "language_info": {
   "codemirror_mode": {
    "name": "ipython",
    "version": 3
   },
   "file_extension": ".py",
   "mimetype": "text/x-python",
   "name": "python",
   "nbconvert_exporter": "python",
   "pygments_lexer": "ipython3",
   "version": "3.6.8"
  }
 },
 "nbformat": 4,
 "nbformat_minor": 2
}
