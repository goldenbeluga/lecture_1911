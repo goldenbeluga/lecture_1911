{
 "cells": [
  {
   "cell_type": "markdown",
   "metadata": {},
   "source": [
    "> 요리재료 없이 요리가 나오나?\n",
    "> ### 데이터 분석을 위한 재료가 필요하다. 그 재료를 모으는 일이 데이터 수집"
   ]
  },
  {
   "cell_type": "markdown",
   "metadata": {},
   "source": [
    "# 데이터 수집의 방법\n",
    "1. 장인정신으로 한 땀 한 땀 필요한 데이터를 복사 붙여넣기 한다.\n",
    "2. 회사의 DB, 인터넷에서 다운로드 한다.\n",
    "3. 제공하는 API를 통해서 데이터를 일정량 가져온다.\n",
    "3. 웹에서 데이터를 직접 긁어온다."
   ]
  },
  {
   "cell_type": "markdown",
   "metadata": {},
   "source": [
    "# 데이터 수집의 단계\n",
    "1. 데이터 선정\n",
    "    - 목적에 맞는 데이터를 찾기\n",
    "2. 데이터 수집\n",
    "    - 문제없이 데이터를 수집\n",
    "3. 데이터 정리\n",
    "    - 저장이 가능한 수준으로 정리\n",
    "4. 데이터 저장\n",
    "    - DB/파일 형태로 저장"
   ]
  },
  {
   "cell_type": "markdown",
   "metadata": {},
   "source": [
    "# scraping vs crawling\n",
    "스크랩핑(scraping) : 한 화면의 데이터를 수집(`단발성`측면)\n",
    "\n",
    "크롤링(Crawling) : 자동화된 방법으로 데이터를 수집(`자동화`측면)"
   ]
  },
  {
   "cell_type": "markdown",
   "metadata": {},
   "source": [
    "[네이버 영화 평점](https://movie.naver.com/movie/point/af/list.nhn?st=mcode&sword=149236&target=after)"
   ]
  },
  {
   "cell_type": "markdown",
   "metadata": {},
   "source": [
    "> 1페이지 리뷰 수집은 스크랩핑, 여러 페이지 리뷰 수집은 크롤링"
   ]
  },
  {
   "cell_type": "markdown",
   "metadata": {},
   "source": [
    "# 수집 데이터의 종류\n",
    "- 텍스트\n",
    "- 테이블\n",
    "- JSON(JavaScript Object Notation)\n",
    "- XML\n",
    "- 이미지 등\n",
    "\n",
    "> 전부 알 필요 없다. 그때 그때 필요한 데이터를 학습하면 된다."
   ]
  },
  {
   "cell_type": "markdown",
   "metadata": {},
   "source": [
    "----"
   ]
  },
  {
   "cell_type": "markdown",
   "metadata": {},
   "source": [
    "# 크롤링 주의 사항\n",
    "- 지적재산권 확인\n",
    "    - 사례, [잡코리아 정보를 크롤링한 사람인](https://byline.network/2016/02/1-64/)    \n",
    "\n",
    "\n",
    "- 사이트의 부담\n",
    "    - ip차단(403 Error)\n",
    "    - sleep 함수를 통해 적당한 속도로 반복\n",
    "> 사람인 척 하면 된다. 1초에 수천번 클릭하는 사람은 없을 것이다.\n",
    "    \n",
    "- 이용방침을 확인(allow/disallow)\n",
    "    - `url/robots.txt`로 확인\n",
    "    - [구글로봇](https://www.google.com/robots.txt)\n",
    "\n",
    "\n",
    "출처: [Aalok Siingh, ecommerce strategist and digital media expert](https://www.quora.com/Is-it-legal-to-crawl-E-commerce-websites-like-Amazon-Flipkart-Snapdeal-Paytm)"
   ]
  },
  {
   "cell_type": "code",
   "execution_count": null,
   "metadata": {},
   "outputs": [],
   "source": []
  }
 ],
 "metadata": {
  "kernelspec": {
   "display_name": "Python 3",
   "language": "python",
   "name": "python3"
  },
  "language_info": {
   "codemirror_mode": {
    "name": "ipython",
    "version": 3
   },
   "file_extension": ".py",
   "mimetype": "text/x-python",
   "name": "python",
   "nbconvert_exporter": "python",
   "pygments_lexer": "ipython3",
   "version": "3.6.8"
  }
 },
 "nbformat": 4,
 "nbformat_minor": 2
}
