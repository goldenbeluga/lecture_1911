{
 "cells": [
  {
   "cell_type": "markdown",
   "metadata": {},
   "source": [
    "# 1. 문제 정의"
   ]
  },
  {
   "cell_type": "markdown",
   "metadata": {},
   "source": [
    "![](http://mblogthumb2.phinf.naver.net/MjAxNzA0MjZfMTYg/MDAxNDkzMTc0MzcwMzYy.xlREq-xAfGw-QjGk5qmoloxnNoRmzWQ1U9iqPDG-_3Yg.o2ytiA0es2f9Fd5jaKxtIdmf0rP43WAeC63_BizSl0Eg.PNG.yk-story/%EB%AF%B8%EC%84%B8%EB%A8%BC%EC%A7%80_4%ED%83%84_0.png?type=w800)"
   ]
  },
  {
   "cell_type": "markdown",
   "metadata": {},
   "source": [
    "https://m.blog.naver.com/PostView.nhn?blogId=yk-story&logNo=220992363437&proxyReferer=https%3A%2F%2Fwww.google.com%2F"
   ]
  },
  {
   "cell_type": "markdown",
   "metadata": {},
   "source": [
    "![](http://ecomedia.co.kr/news/data/20190612/p1065571626499105_796_thum.jpg)"
   ]
  },
  {
   "cell_type": "markdown",
   "metadata": {},
   "source": [
    "http://ecomedia.co.kr/news/newsview.php?ncode=1065571626499105"
   ]
  },
  {
   "cell_type": "markdown",
   "metadata": {},
   "source": [
    "> 그러면 동등하게 역마다 배치를 해야할까? 심한 곳에 더 배치를 해야할까?\n",
    "\n",
    "> ### 미세먼지의 차이를 일단 봐보자"
   ]
  },
  {
   "cell_type": "markdown",
   "metadata": {},
   "source": [
    "### 필요 데이터\n",
    "1. 지하철 위치 데이터 ->`지하철 위치 데이터` 검색  \n",
    "https://data.seoul.go.kr/dataList/datasetView.do?infId=OA-118&srvType=S&serviceKind=1&currentPageNo=1\n",
    "\n",
    "- 지하철 미세먼지 데이터 -> `지하철 역사내의 미세먼지 데이터`->`지하철 공기질 데이터` 검색  \n",
    "http://www.seoulmetro.co.kr/kr/board.do?menuIdx=551&bbsIdx=2208439\n",
    "> 원하는 데이터를 찾아보자, 없으면 정보공개청구 -> 포기"
   ]
  },
  {
   "cell_type": "markdown",
   "metadata": {},
   "source": [
    "### 미세먼지 정의"
   ]
  },
  {
   "cell_type": "markdown",
   "metadata": {},
   "source": [
    "입자의 지름이 10마이크로미터 이하인 `미세먼지` PM(particulate matter)10, PM10  \n",
    "PM2.5는 `초미세먼지`"
   ]
  },
  {
   "cell_type": "markdown",
   "metadata": {},
   "source": [
    "# 2. 데이터 로드"
   ]
  },
  {
   "cell_type": "markdown",
   "metadata": {},
   "source": [
    "### package"
   ]
  },
  {
   "cell_type": "markdown",
   "metadata": {},
   "source": [
    "## 2_1. 위치 데이터"
   ]
  },
  {
   "cell_type": "markdown",
   "metadata": {},
   "source": [
    "## 2_2. 미세먼지 데이터"
   ]
  },
  {
   "cell_type": "markdown",
   "metadata": {},
   "source": [
    "## 우리가 하고자 하는 것. \n",
    "> 지하철역 위치에 미세먼지의 심함을 보여주고 싶다.\n",
    ">> 현재 주어진 데이터는 위치와 미세먼지가 따로 되어 있다.\n",
    ">>> 둘을 합쳐줘야 한다. 뭘로 합쳐 주면 될까?\n",
    ">>>> ### 둘의 공통적인 컬럼은 `전철역명`뿐이네"
   ]
  },
  {
   "cell_type": "markdown",
   "metadata": {},
   "source": [
    "# 3. 데이터 정제"
   ]
  },
  {
   "cell_type": "markdown",
   "metadata": {},
   "source": [
    "## 3_1. 위치 데이터"
   ]
  },
  {
   "cell_type": "markdown",
   "metadata": {},
   "source": [
    "### na확인"
   ]
  },
  {
   "cell_type": "markdown",
   "metadata": {},
   "source": [
    "### 인덱스정리"
   ]
  },
  {
   "cell_type": "markdown",
   "metadata": {},
   "source": [
    "### 중복제거"
   ]
  },
  {
   "cell_type": "markdown",
   "metadata": {},
   "source": [
    "## 3_2. 미세먼지 데이터"
   ]
  },
  {
   "cell_type": "markdown",
   "metadata": {},
   "source": [
    "기본적으로 읽어올 때 제일 위에 있는 0번째 줄을 header/column으로 인식한다."
   ]
  },
  {
   "cell_type": "markdown",
   "metadata": {},
   "source": [
    "### na확인"
   ]
  },
  {
   "cell_type": "markdown",
   "metadata": {},
   "source": [
    "### 필요한 데이터만 남기기"
   ]
  },
  {
   "cell_type": "markdown",
   "metadata": {},
   "source": [
    "## 데이터 합치기"
   ]
  },
  {
   "cell_type": "markdown",
   "metadata": {},
   "source": [
    "5행에 전철역명이 `시 청`이 사이에 한 칸 뛰어져 있다. 그러면 위치데이터에 있는 `시청`이랑 똑같은 데이터가 아니라 합쳐질 수 없다."
   ]
  },
  {
   "cell_type": "markdown",
   "metadata": {},
   "source": [
    ">같다!"
   ]
  },
  {
   "cell_type": "markdown",
   "metadata": {},
   "source": [
    "### 중복 제거"
   ]
  },
  {
   "cell_type": "markdown",
   "metadata": {},
   "source": [
    "이렇게 하면 PM-10수치와 관련없이 중복된 것 중에 앞에것만 가져오는 문제점"
   ]
  },
  {
   "cell_type": "code",
   "execution_count": null,
   "metadata": {},
   "outputs": [],
   "source": []
  },
  {
   "cell_type": "markdown",
   "metadata": {},
   "source": [
    "이제 합쳐보자  \n",
    "`join` 검색"
   ]
  },
  {
   "cell_type": "markdown",
   "metadata": {},
   "source": [
    "![](https://letsdobigdata.files.wordpress.com/2016/03/joins.png?w=800)"
   ]
  }
 ],
 "metadata": {
  "kernelspec": {
   "display_name": "Python 3",
   "language": "python",
   "name": "python3"
  },
  "language_info": {
   "codemirror_mode": {
    "name": "ipython",
    "version": 3
   },
   "file_extension": ".py",
   "mimetype": "text/x-python",
   "name": "python",
   "nbconvert_exporter": "python",
   "pygments_lexer": "ipython3",
   "version": "3.6.8"
  }
 },
 "nbformat": 4,
 "nbformat_minor": 2
}
