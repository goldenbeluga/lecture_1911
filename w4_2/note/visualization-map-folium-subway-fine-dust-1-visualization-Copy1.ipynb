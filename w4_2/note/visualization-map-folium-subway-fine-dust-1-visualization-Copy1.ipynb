{
 "cells": [
  {
   "cell_type": "markdown",
   "metadata": {},
   "source": [
    "# package"
   ]
  },
  {
   "cell_type": "markdown",
   "metadata": {},
   "source": [
    "## 아이디어 및 코드 찾아보기"
   ]
  },
  {
   "cell_type": "markdown",
   "metadata": {},
   "source": [
    "`folium visualization`/ `folium circle popup` / etc 구 글 링! "
   ]
  },
  {
   "cell_type": "markdown",
   "metadata": {},
   "source": [
    "![](https://miro.medium.com/max/4524/1*EJaBi5KsJAWBJa02Un3ejg.png)"
   ]
  },
  {
   "cell_type": "markdown",
   "metadata": {},
   "source": [
    "### 위험 정도 색으로 나타나기(4등급)"
   ]
  },
  {
   "cell_type": "markdown",
   "metadata": {},
   "source": [
    "### create a base map"
   ]
  },
  {
   "cell_type": "markdown",
   "metadata": {},
   "source": [
    "### zip복습"
   ]
  },
  {
   "cell_type": "markdown",
   "metadata": {},
   "source": [
    "### 여행지도 만들기 예제 지능화\n",
    "```python\n",
    "folium.Marker(location=Portugal,popup=folium.Popup(img_input('./img/porto-600x400.jpg'))).add_to(travel)\n",
    "folium.Marker(location=Spain,popup=folium.Popup(img_input('./img/spain_gaudi-600x400.jpg'))).add_to(travel)\n",
    "```\n",
    ">for 문으로 가능하겠죠?"
   ]
  },
  {
   "cell_type": "code",
   "execution_count": null,
   "metadata": {},
   "outputs": [],
   "source": []
  },
  {
   "cell_type": "markdown",
   "metadata": {},
   "source": [
    "### 보기 싫은 점\n",
    "- 빨간색이 위험이니깐 더 돋보여야 한다. \n",
    "> for문 도는거니깐 뒤에 있는게 layer를 덮어씌우겠네\n",
    "- 도곡 눌러보면 107.966666이라 뜬다. \n",
    "> round하면 되겠네"
   ]
  },
  {
   "cell_type": "markdown",
   "metadata": {},
   "source": [
    "### 바로 인터넷창 열기"
   ]
  }
 ],
 "metadata": {
  "kernelspec": {
   "display_name": "Python 3",
   "language": "python",
   "name": "python3"
  },
  "language_info": {
   "codemirror_mode": {
    "name": "ipython",
    "version": 3
   },
   "file_extension": ".py",
   "mimetype": "text/x-python",
   "name": "python",
   "nbconvert_exporter": "python",
   "pygments_lexer": "ipython3",
   "version": "3.6.8"
  }
 },
 "nbformat": 4,
 "nbformat_minor": 2
}
